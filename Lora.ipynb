{
  "metadata": {
    "kernelspec": {
      "name": "python3",
      "display_name": "Python 3",
      "language": "python"
    },
    "language_info": {
      "name": "python",
      "version": "3.10.13",
      "mimetype": "text/x-python",
      "codemirror_mode": {
        "name": "ipython",
        "version": 3
      },
      "pygments_lexer": "ipython3",
      "nbconvert_exporter": "python",
      "file_extension": ".py"
    },
    "colab": {
      "provenance": [],
      "gpuType": "T4"
    },
    "accelerator": "GPU",
    "widgets": {
      "application/vnd.jupyter.widget-state+json": {
        "513161f6af3244d9a830f29406fa9378": {
          "model_module": "@jupyter-widgets/controls",
          "model_name": "HBoxModel",
          "model_module_version": "1.5.0",
          "state": {
            "_dom_classes": [],
            "_model_module": "@jupyter-widgets/controls",
            "_model_module_version": "1.5.0",
            "_model_name": "HBoxModel",
            "_view_count": null,
            "_view_module": "@jupyter-widgets/controls",
            "_view_module_version": "1.5.0",
            "_view_name": "HBoxView",
            "box_style": "",
            "children": [
              "IPY_MODEL_cd851476616e4d5d91fd0b6e95ce98a3",
              "IPY_MODEL_3f083f840e564bc78f36f21219b8dbf4",
              "IPY_MODEL_00db663572624167b7f2fb61e1a4847b"
            ],
            "layout": "IPY_MODEL_4b9740abfb0b4953aac6a3db2326c398"
          }
        },
        "cd851476616e4d5d91fd0b6e95ce98a3": {
          "model_module": "@jupyter-widgets/controls",
          "model_name": "HTMLModel",
          "model_module_version": "1.5.0",
          "state": {
            "_dom_classes": [],
            "_model_module": "@jupyter-widgets/controls",
            "_model_module_version": "1.5.0",
            "_model_name": "HTMLModel",
            "_view_count": null,
            "_view_module": "@jupyter-widgets/controls",
            "_view_module_version": "1.5.0",
            "_view_name": "HTMLView",
            "description": "",
            "description_tooltip": null,
            "layout": "IPY_MODEL_37f105f8ff824221906134cc9bbbe70e",
            "placeholder": "​",
            "style": "IPY_MODEL_fdb6d98a440845af816b6a1eab3ad27b",
            "value": "tokenizer_config.json: 100%"
          }
        },
        "3f083f840e564bc78f36f21219b8dbf4": {
          "model_module": "@jupyter-widgets/controls",
          "model_name": "FloatProgressModel",
          "model_module_version": "1.5.0",
          "state": {
            "_dom_classes": [],
            "_model_module": "@jupyter-widgets/controls",
            "_model_module_version": "1.5.0",
            "_model_name": "FloatProgressModel",
            "_view_count": null,
            "_view_module": "@jupyter-widgets/controls",
            "_view_module_version": "1.5.0",
            "_view_name": "ProgressView",
            "bar_style": "success",
            "description": "",
            "description_tooltip": null,
            "layout": "IPY_MODEL_801d31ce97f54a9c97baf60998611105",
            "max": 49,
            "min": 0,
            "orientation": "horizontal",
            "style": "IPY_MODEL_bf12131183ce4b359574bb42f87d81c4",
            "value": 49
          }
        },
        "00db663572624167b7f2fb61e1a4847b": {
          "model_module": "@jupyter-widgets/controls",
          "model_name": "HTMLModel",
          "model_module_version": "1.5.0",
          "state": {
            "_dom_classes": [],
            "_model_module": "@jupyter-widgets/controls",
            "_model_module_version": "1.5.0",
            "_model_name": "HTMLModel",
            "_view_count": null,
            "_view_module": "@jupyter-widgets/controls",
            "_view_module_version": "1.5.0",
            "_view_name": "HTMLView",
            "description": "",
            "description_tooltip": null,
            "layout": "IPY_MODEL_6dd8290e657147e39b92b021ed28fb01",
            "placeholder": "​",
            "style": "IPY_MODEL_2fcacd0d01a349128c549762fcfea8bf",
            "value": " 49.0/49.0 [00:00&lt;00:00, 1.09kB/s]"
          }
        },
        "4b9740abfb0b4953aac6a3db2326c398": {
          "model_module": "@jupyter-widgets/base",
          "model_name": "LayoutModel",
          "model_module_version": "1.2.0",
          "state": {
            "_model_module": "@jupyter-widgets/base",
            "_model_module_version": "1.2.0",
            "_model_name": "LayoutModel",
            "_view_count": null,
            "_view_module": "@jupyter-widgets/base",
            "_view_module_version": "1.2.0",
            "_view_name": "LayoutView",
            "align_content": null,
            "align_items": null,
            "align_self": null,
            "border": null,
            "bottom": null,
            "display": null,
            "flex": null,
            "flex_flow": null,
            "grid_area": null,
            "grid_auto_columns": null,
            "grid_auto_flow": null,
            "grid_auto_rows": null,
            "grid_column": null,
            "grid_gap": null,
            "grid_row": null,
            "grid_template_areas": null,
            "grid_template_columns": null,
            "grid_template_rows": null,
            "height": null,
            "justify_content": null,
            "justify_items": null,
            "left": null,
            "margin": null,
            "max_height": null,
            "max_width": null,
            "min_height": null,
            "min_width": null,
            "object_fit": null,
            "object_position": null,
            "order": null,
            "overflow": null,
            "overflow_x": null,
            "overflow_y": null,
            "padding": null,
            "right": null,
            "top": null,
            "visibility": null,
            "width": null
          }
        },
        "37f105f8ff824221906134cc9bbbe70e": {
          "model_module": "@jupyter-widgets/base",
          "model_name": "LayoutModel",
          "model_module_version": "1.2.0",
          "state": {
            "_model_module": "@jupyter-widgets/base",
            "_model_module_version": "1.2.0",
            "_model_name": "LayoutModel",
            "_view_count": null,
            "_view_module": "@jupyter-widgets/base",
            "_view_module_version": "1.2.0",
            "_view_name": "LayoutView",
            "align_content": null,
            "align_items": null,
            "align_self": null,
            "border": null,
            "bottom": null,
            "display": null,
            "flex": null,
            "flex_flow": null,
            "grid_area": null,
            "grid_auto_columns": null,
            "grid_auto_flow": null,
            "grid_auto_rows": null,
            "grid_column": null,
            "grid_gap": null,
            "grid_row": null,
            "grid_template_areas": null,
            "grid_template_columns": null,
            "grid_template_rows": null,
            "height": null,
            "justify_content": null,
            "justify_items": null,
            "left": null,
            "margin": null,
            "max_height": null,
            "max_width": null,
            "min_height": null,
            "min_width": null,
            "object_fit": null,
            "object_position": null,
            "order": null,
            "overflow": null,
            "overflow_x": null,
            "overflow_y": null,
            "padding": null,
            "right": null,
            "top": null,
            "visibility": null,
            "width": null
          }
        },
        "fdb6d98a440845af816b6a1eab3ad27b": {
          "model_module": "@jupyter-widgets/controls",
          "model_name": "DescriptionStyleModel",
          "model_module_version": "1.5.0",
          "state": {
            "_model_module": "@jupyter-widgets/controls",
            "_model_module_version": "1.5.0",
            "_model_name": "DescriptionStyleModel",
            "_view_count": null,
            "_view_module": "@jupyter-widgets/base",
            "_view_module_version": "1.2.0",
            "_view_name": "StyleView",
            "description_width": ""
          }
        },
        "801d31ce97f54a9c97baf60998611105": {
          "model_module": "@jupyter-widgets/base",
          "model_name": "LayoutModel",
          "model_module_version": "1.2.0",
          "state": {
            "_model_module": "@jupyter-widgets/base",
            "_model_module_version": "1.2.0",
            "_model_name": "LayoutModel",
            "_view_count": null,
            "_view_module": "@jupyter-widgets/base",
            "_view_module_version": "1.2.0",
            "_view_name": "LayoutView",
            "align_content": null,
            "align_items": null,
            "align_self": null,
            "border": null,
            "bottom": null,
            "display": null,
            "flex": null,
            "flex_flow": null,
            "grid_area": null,
            "grid_auto_columns": null,
            "grid_auto_flow": null,
            "grid_auto_rows": null,
            "grid_column": null,
            "grid_gap": null,
            "grid_row": null,
            "grid_template_areas": null,
            "grid_template_columns": null,
            "grid_template_rows": null,
            "height": null,
            "justify_content": null,
            "justify_items": null,
            "left": null,
            "margin": null,
            "max_height": null,
            "max_width": null,
            "min_height": null,
            "min_width": null,
            "object_fit": null,
            "object_position": null,
            "order": null,
            "overflow": null,
            "overflow_x": null,
            "overflow_y": null,
            "padding": null,
            "right": null,
            "top": null,
            "visibility": null,
            "width": null
          }
        },
        "bf12131183ce4b359574bb42f87d81c4": {
          "model_module": "@jupyter-widgets/controls",
          "model_name": "ProgressStyleModel",
          "model_module_version": "1.5.0",
          "state": {
            "_model_module": "@jupyter-widgets/controls",
            "_model_module_version": "1.5.0",
            "_model_name": "ProgressStyleModel",
            "_view_count": null,
            "_view_module": "@jupyter-widgets/base",
            "_view_module_version": "1.2.0",
            "_view_name": "StyleView",
            "bar_color": null,
            "description_width": ""
          }
        },
        "6dd8290e657147e39b92b021ed28fb01": {
          "model_module": "@jupyter-widgets/base",
          "model_name": "LayoutModel",
          "model_module_version": "1.2.0",
          "state": {
            "_model_module": "@jupyter-widgets/base",
            "_model_module_version": "1.2.0",
            "_model_name": "LayoutModel",
            "_view_count": null,
            "_view_module": "@jupyter-widgets/base",
            "_view_module_version": "1.2.0",
            "_view_name": "LayoutView",
            "align_content": null,
            "align_items": null,
            "align_self": null,
            "border": null,
            "bottom": null,
            "display": null,
            "flex": null,
            "flex_flow": null,
            "grid_area": null,
            "grid_auto_columns": null,
            "grid_auto_flow": null,
            "grid_auto_rows": null,
            "grid_column": null,
            "grid_gap": null,
            "grid_row": null,
            "grid_template_areas": null,
            "grid_template_columns": null,
            "grid_template_rows": null,
            "height": null,
            "justify_content": null,
            "justify_items": null,
            "left": null,
            "margin": null,
            "max_height": null,
            "max_width": null,
            "min_height": null,
            "min_width": null,
            "object_fit": null,
            "object_position": null,
            "order": null,
            "overflow": null,
            "overflow_x": null,
            "overflow_y": null,
            "padding": null,
            "right": null,
            "top": null,
            "visibility": null,
            "width": null
          }
        },
        "2fcacd0d01a349128c549762fcfea8bf": {
          "model_module": "@jupyter-widgets/controls",
          "model_name": "DescriptionStyleModel",
          "model_module_version": "1.5.0",
          "state": {
            "_model_module": "@jupyter-widgets/controls",
            "_model_module_version": "1.5.0",
            "_model_name": "DescriptionStyleModel",
            "_view_count": null,
            "_view_module": "@jupyter-widgets/base",
            "_view_module_version": "1.2.0",
            "_view_name": "StyleView",
            "description_width": ""
          }
        },
        "28e8ef0a74e1458cbe9ad21ce30ac63d": {
          "model_module": "@jupyter-widgets/controls",
          "model_name": "HBoxModel",
          "model_module_version": "1.5.0",
          "state": {
            "_dom_classes": [],
            "_model_module": "@jupyter-widgets/controls",
            "_model_module_version": "1.5.0",
            "_model_name": "HBoxModel",
            "_view_count": null,
            "_view_module": "@jupyter-widgets/controls",
            "_view_module_version": "1.5.0",
            "_view_name": "HBoxView",
            "box_style": "",
            "children": [
              "IPY_MODEL_60d4e569faee464fbed9ae275990d9d1",
              "IPY_MODEL_062d53b5b6b54ed08c99079a0e19aee9",
              "IPY_MODEL_d780e13defea4708ad7c7a7c9efc50b6"
            ],
            "layout": "IPY_MODEL_d4dda217bae843709e8bbe48567b9c51"
          }
        },
        "60d4e569faee464fbed9ae275990d9d1": {
          "model_module": "@jupyter-widgets/controls",
          "model_name": "HTMLModel",
          "model_module_version": "1.5.0",
          "state": {
            "_dom_classes": [],
            "_model_module": "@jupyter-widgets/controls",
            "_model_module_version": "1.5.0",
            "_model_name": "HTMLModel",
            "_view_count": null,
            "_view_module": "@jupyter-widgets/controls",
            "_view_module_version": "1.5.0",
            "_view_name": "HTMLView",
            "description": "",
            "description_tooltip": null,
            "layout": "IPY_MODEL_738f06061b184a57ab8d918e18af5a60",
            "placeholder": "​",
            "style": "IPY_MODEL_946590b334c84a1aa5c53592651be3e2",
            "value": "config.json: 100%"
          }
        },
        "062d53b5b6b54ed08c99079a0e19aee9": {
          "model_module": "@jupyter-widgets/controls",
          "model_name": "FloatProgressModel",
          "model_module_version": "1.5.0",
          "state": {
            "_dom_classes": [],
            "_model_module": "@jupyter-widgets/controls",
            "_model_module_version": "1.5.0",
            "_model_name": "FloatProgressModel",
            "_view_count": null,
            "_view_module": "@jupyter-widgets/controls",
            "_view_module_version": "1.5.0",
            "_view_name": "ProgressView",
            "bar_style": "success",
            "description": "",
            "description_tooltip": null,
            "layout": "IPY_MODEL_315d37dba9024508af7b884e17b3aa5c",
            "max": 625,
            "min": 0,
            "orientation": "horizontal",
            "style": "IPY_MODEL_1fae5c9e14f14aa89f8b86f8393a11be",
            "value": 625
          }
        },
        "d780e13defea4708ad7c7a7c9efc50b6": {
          "model_module": "@jupyter-widgets/controls",
          "model_name": "HTMLModel",
          "model_module_version": "1.5.0",
          "state": {
            "_dom_classes": [],
            "_model_module": "@jupyter-widgets/controls",
            "_model_module_version": "1.5.0",
            "_model_name": "HTMLModel",
            "_view_count": null,
            "_view_module": "@jupyter-widgets/controls",
            "_view_module_version": "1.5.0",
            "_view_name": "HTMLView",
            "description": "",
            "description_tooltip": null,
            "layout": "IPY_MODEL_7927601d9abf40e58f1e017caf45ebd7",
            "placeholder": "​",
            "style": "IPY_MODEL_b2460e74f182413c8f8b5eb030320247",
            "value": " 625/625 [00:00&lt;00:00, 9.19kB/s]"
          }
        },
        "d4dda217bae843709e8bbe48567b9c51": {
          "model_module": "@jupyter-widgets/base",
          "model_name": "LayoutModel",
          "model_module_version": "1.2.0",
          "state": {
            "_model_module": "@jupyter-widgets/base",
            "_model_module_version": "1.2.0",
            "_model_name": "LayoutModel",
            "_view_count": null,
            "_view_module": "@jupyter-widgets/base",
            "_view_module_version": "1.2.0",
            "_view_name": "LayoutView",
            "align_content": null,
            "align_items": null,
            "align_self": null,
            "border": null,
            "bottom": null,
            "display": null,
            "flex": null,
            "flex_flow": null,
            "grid_area": null,
            "grid_auto_columns": null,
            "grid_auto_flow": null,
            "grid_auto_rows": null,
            "grid_column": null,
            "grid_gap": null,
            "grid_row": null,
            "grid_template_areas": null,
            "grid_template_columns": null,
            "grid_template_rows": null,
            "height": null,
            "justify_content": null,
            "justify_items": null,
            "left": null,
            "margin": null,
            "max_height": null,
            "max_width": null,
            "min_height": null,
            "min_width": null,
            "object_fit": null,
            "object_position": null,
            "order": null,
            "overflow": null,
            "overflow_x": null,
            "overflow_y": null,
            "padding": null,
            "right": null,
            "top": null,
            "visibility": null,
            "width": null
          }
        },
        "738f06061b184a57ab8d918e18af5a60": {
          "model_module": "@jupyter-widgets/base",
          "model_name": "LayoutModel",
          "model_module_version": "1.2.0",
          "state": {
            "_model_module": "@jupyter-widgets/base",
            "_model_module_version": "1.2.0",
            "_model_name": "LayoutModel",
            "_view_count": null,
            "_view_module": "@jupyter-widgets/base",
            "_view_module_version": "1.2.0",
            "_view_name": "LayoutView",
            "align_content": null,
            "align_items": null,
            "align_self": null,
            "border": null,
            "bottom": null,
            "display": null,
            "flex": null,
            "flex_flow": null,
            "grid_area": null,
            "grid_auto_columns": null,
            "grid_auto_flow": null,
            "grid_auto_rows": null,
            "grid_column": null,
            "grid_gap": null,
            "grid_row": null,
            "grid_template_areas": null,
            "grid_template_columns": null,
            "grid_template_rows": null,
            "height": null,
            "justify_content": null,
            "justify_items": null,
            "left": null,
            "margin": null,
            "max_height": null,
            "max_width": null,
            "min_height": null,
            "min_width": null,
            "object_fit": null,
            "object_position": null,
            "order": null,
            "overflow": null,
            "overflow_x": null,
            "overflow_y": null,
            "padding": null,
            "right": null,
            "top": null,
            "visibility": null,
            "width": null
          }
        },
        "946590b334c84a1aa5c53592651be3e2": {
          "model_module": "@jupyter-widgets/controls",
          "model_name": "DescriptionStyleModel",
          "model_module_version": "1.5.0",
          "state": {
            "_model_module": "@jupyter-widgets/controls",
            "_model_module_version": "1.5.0",
            "_model_name": "DescriptionStyleModel",
            "_view_count": null,
            "_view_module": "@jupyter-widgets/base",
            "_view_module_version": "1.2.0",
            "_view_name": "StyleView",
            "description_width": ""
          }
        },
        "315d37dba9024508af7b884e17b3aa5c": {
          "model_module": "@jupyter-widgets/base",
          "model_name": "LayoutModel",
          "model_module_version": "1.2.0",
          "state": {
            "_model_module": "@jupyter-widgets/base",
            "_model_module_version": "1.2.0",
            "_model_name": "LayoutModel",
            "_view_count": null,
            "_view_module": "@jupyter-widgets/base",
            "_view_module_version": "1.2.0",
            "_view_name": "LayoutView",
            "align_content": null,
            "align_items": null,
            "align_self": null,
            "border": null,
            "bottom": null,
            "display": null,
            "flex": null,
            "flex_flow": null,
            "grid_area": null,
            "grid_auto_columns": null,
            "grid_auto_flow": null,
            "grid_auto_rows": null,
            "grid_column": null,
            "grid_gap": null,
            "grid_row": null,
            "grid_template_areas": null,
            "grid_template_columns": null,
            "grid_template_rows": null,
            "height": null,
            "justify_content": null,
            "justify_items": null,
            "left": null,
            "margin": null,
            "max_height": null,
            "max_width": null,
            "min_height": null,
            "min_width": null,
            "object_fit": null,
            "object_position": null,
            "order": null,
            "overflow": null,
            "overflow_x": null,
            "overflow_y": null,
            "padding": null,
            "right": null,
            "top": null,
            "visibility": null,
            "width": null
          }
        },
        "1fae5c9e14f14aa89f8b86f8393a11be": {
          "model_module": "@jupyter-widgets/controls",
          "model_name": "ProgressStyleModel",
          "model_module_version": "1.5.0",
          "state": {
            "_model_module": "@jupyter-widgets/controls",
            "_model_module_version": "1.5.0",
            "_model_name": "ProgressStyleModel",
            "_view_count": null,
            "_view_module": "@jupyter-widgets/base",
            "_view_module_version": "1.2.0",
            "_view_name": "StyleView",
            "bar_color": null,
            "description_width": ""
          }
        },
        "7927601d9abf40e58f1e017caf45ebd7": {
          "model_module": "@jupyter-widgets/base",
          "model_name": "LayoutModel",
          "model_module_version": "1.2.0",
          "state": {
            "_model_module": "@jupyter-widgets/base",
            "_model_module_version": "1.2.0",
            "_model_name": "LayoutModel",
            "_view_count": null,
            "_view_module": "@jupyter-widgets/base",
            "_view_module_version": "1.2.0",
            "_view_name": "LayoutView",
            "align_content": null,
            "align_items": null,
            "align_self": null,
            "border": null,
            "bottom": null,
            "display": null,
            "flex": null,
            "flex_flow": null,
            "grid_area": null,
            "grid_auto_columns": null,
            "grid_auto_flow": null,
            "grid_auto_rows": null,
            "grid_column": null,
            "grid_gap": null,
            "grid_row": null,
            "grid_template_areas": null,
            "grid_template_columns": null,
            "grid_template_rows": null,
            "height": null,
            "justify_content": null,
            "justify_items": null,
            "left": null,
            "margin": null,
            "max_height": null,
            "max_width": null,
            "min_height": null,
            "min_width": null,
            "object_fit": null,
            "object_position": null,
            "order": null,
            "overflow": null,
            "overflow_x": null,
            "overflow_y": null,
            "padding": null,
            "right": null,
            "top": null,
            "visibility": null,
            "width": null
          }
        },
        "b2460e74f182413c8f8b5eb030320247": {
          "model_module": "@jupyter-widgets/controls",
          "model_name": "DescriptionStyleModel",
          "model_module_version": "1.5.0",
          "state": {
            "_model_module": "@jupyter-widgets/controls",
            "_model_module_version": "1.5.0",
            "_model_name": "DescriptionStyleModel",
            "_view_count": null,
            "_view_module": "@jupyter-widgets/base",
            "_view_module_version": "1.2.0",
            "_view_name": "StyleView",
            "description_width": ""
          }
        },
        "319b2510bba54ea2917815c84629132e": {
          "model_module": "@jupyter-widgets/controls",
          "model_name": "HBoxModel",
          "model_module_version": "1.5.0",
          "state": {
            "_dom_classes": [],
            "_model_module": "@jupyter-widgets/controls",
            "_model_module_version": "1.5.0",
            "_model_name": "HBoxModel",
            "_view_count": null,
            "_view_module": "@jupyter-widgets/controls",
            "_view_module_version": "1.5.0",
            "_view_name": "HBoxView",
            "box_style": "",
            "children": [
              "IPY_MODEL_d7b869ca8587483281f312c71e169a36",
              "IPY_MODEL_fdd63d924bd94b1a853c6fdec80825ac",
              "IPY_MODEL_f9d63b0d20bd44eab0385f470f9f12ef"
            ],
            "layout": "IPY_MODEL_862f4faf70564636b3869fdefe3d20ba"
          }
        },
        "d7b869ca8587483281f312c71e169a36": {
          "model_module": "@jupyter-widgets/controls",
          "model_name": "HTMLModel",
          "model_module_version": "1.5.0",
          "state": {
            "_dom_classes": [],
            "_model_module": "@jupyter-widgets/controls",
            "_model_module_version": "1.5.0",
            "_model_name": "HTMLModel",
            "_view_count": null,
            "_view_module": "@jupyter-widgets/controls",
            "_view_module_version": "1.5.0",
            "_view_name": "HTMLView",
            "description": "",
            "description_tooltip": null,
            "layout": "IPY_MODEL_80307870412c40aa9bda13fa6cf99f28",
            "placeholder": "​",
            "style": "IPY_MODEL_ac5263c53f5c4c4694512e68f591ffa0",
            "value": "vocab.txt: 100%"
          }
        },
        "fdd63d924bd94b1a853c6fdec80825ac": {
          "model_module": "@jupyter-widgets/controls",
          "model_name": "FloatProgressModel",
          "model_module_version": "1.5.0",
          "state": {
            "_dom_classes": [],
            "_model_module": "@jupyter-widgets/controls",
            "_model_module_version": "1.5.0",
            "_model_name": "FloatProgressModel",
            "_view_count": null,
            "_view_module": "@jupyter-widgets/controls",
            "_view_module_version": "1.5.0",
            "_view_name": "ProgressView",
            "bar_style": "success",
            "description": "",
            "description_tooltip": null,
            "layout": "IPY_MODEL_f8215bab855a4c3599b6bd878ed23a5e",
            "max": 995526,
            "min": 0,
            "orientation": "horizontal",
            "style": "IPY_MODEL_1537f489f2af40258694dec4f427afb4",
            "value": 995526
          }
        },
        "f9d63b0d20bd44eab0385f470f9f12ef": {
          "model_module": "@jupyter-widgets/controls",
          "model_name": "HTMLModel",
          "model_module_version": "1.5.0",
          "state": {
            "_dom_classes": [],
            "_model_module": "@jupyter-widgets/controls",
            "_model_module_version": "1.5.0",
            "_model_name": "HTMLModel",
            "_view_count": null,
            "_view_module": "@jupyter-widgets/controls",
            "_view_module_version": "1.5.0",
            "_view_name": "HTMLView",
            "description": "",
            "description_tooltip": null,
            "layout": "IPY_MODEL_8f57a01e9e2e40408a04ae760a9c93f6",
            "placeholder": "​",
            "style": "IPY_MODEL_2eef782f7c014ba28111f2ca0f156828",
            "value": " 996k/996k [00:00&lt;00:00, 2.30MB/s]"
          }
        },
        "862f4faf70564636b3869fdefe3d20ba": {
          "model_module": "@jupyter-widgets/base",
          "model_name": "LayoutModel",
          "model_module_version": "1.2.0",
          "state": {
            "_model_module": "@jupyter-widgets/base",
            "_model_module_version": "1.2.0",
            "_model_name": "LayoutModel",
            "_view_count": null,
            "_view_module": "@jupyter-widgets/base",
            "_view_module_version": "1.2.0",
            "_view_name": "LayoutView",
            "align_content": null,
            "align_items": null,
            "align_self": null,
            "border": null,
            "bottom": null,
            "display": null,
            "flex": null,
            "flex_flow": null,
            "grid_area": null,
            "grid_auto_columns": null,
            "grid_auto_flow": null,
            "grid_auto_rows": null,
            "grid_column": null,
            "grid_gap": null,
            "grid_row": null,
            "grid_template_areas": null,
            "grid_template_columns": null,
            "grid_template_rows": null,
            "height": null,
            "justify_content": null,
            "justify_items": null,
            "left": null,
            "margin": null,
            "max_height": null,
            "max_width": null,
            "min_height": null,
            "min_width": null,
            "object_fit": null,
            "object_position": null,
            "order": null,
            "overflow": null,
            "overflow_x": null,
            "overflow_y": null,
            "padding": null,
            "right": null,
            "top": null,
            "visibility": null,
            "width": null
          }
        },
        "80307870412c40aa9bda13fa6cf99f28": {
          "model_module": "@jupyter-widgets/base",
          "model_name": "LayoutModel",
          "model_module_version": "1.2.0",
          "state": {
            "_model_module": "@jupyter-widgets/base",
            "_model_module_version": "1.2.0",
            "_model_name": "LayoutModel",
            "_view_count": null,
            "_view_module": "@jupyter-widgets/base",
            "_view_module_version": "1.2.0",
            "_view_name": "LayoutView",
            "align_content": null,
            "align_items": null,
            "align_self": null,
            "border": null,
            "bottom": null,
            "display": null,
            "flex": null,
            "flex_flow": null,
            "grid_area": null,
            "grid_auto_columns": null,
            "grid_auto_flow": null,
            "grid_auto_rows": null,
            "grid_column": null,
            "grid_gap": null,
            "grid_row": null,
            "grid_template_areas": null,
            "grid_template_columns": null,
            "grid_template_rows": null,
            "height": null,
            "justify_content": null,
            "justify_items": null,
            "left": null,
            "margin": null,
            "max_height": null,
            "max_width": null,
            "min_height": null,
            "min_width": null,
            "object_fit": null,
            "object_position": null,
            "order": null,
            "overflow": null,
            "overflow_x": null,
            "overflow_y": null,
            "padding": null,
            "right": null,
            "top": null,
            "visibility": null,
            "width": null
          }
        },
        "ac5263c53f5c4c4694512e68f591ffa0": {
          "model_module": "@jupyter-widgets/controls",
          "model_name": "DescriptionStyleModel",
          "model_module_version": "1.5.0",
          "state": {
            "_model_module": "@jupyter-widgets/controls",
            "_model_module_version": "1.5.0",
            "_model_name": "DescriptionStyleModel",
            "_view_count": null,
            "_view_module": "@jupyter-widgets/base",
            "_view_module_version": "1.2.0",
            "_view_name": "StyleView",
            "description_width": ""
          }
        },
        "f8215bab855a4c3599b6bd878ed23a5e": {
          "model_module": "@jupyter-widgets/base",
          "model_name": "LayoutModel",
          "model_module_version": "1.2.0",
          "state": {
            "_model_module": "@jupyter-widgets/base",
            "_model_module_version": "1.2.0",
            "_model_name": "LayoutModel",
            "_view_count": null,
            "_view_module": "@jupyter-widgets/base",
            "_view_module_version": "1.2.0",
            "_view_name": "LayoutView",
            "align_content": null,
            "align_items": null,
            "align_self": null,
            "border": null,
            "bottom": null,
            "display": null,
            "flex": null,
            "flex_flow": null,
            "grid_area": null,
            "grid_auto_columns": null,
            "grid_auto_flow": null,
            "grid_auto_rows": null,
            "grid_column": null,
            "grid_gap": null,
            "grid_row": null,
            "grid_template_areas": null,
            "grid_template_columns": null,
            "grid_template_rows": null,
            "height": null,
            "justify_content": null,
            "justify_items": null,
            "left": null,
            "margin": null,
            "max_height": null,
            "max_width": null,
            "min_height": null,
            "min_width": null,
            "object_fit": null,
            "object_position": null,
            "order": null,
            "overflow": null,
            "overflow_x": null,
            "overflow_y": null,
            "padding": null,
            "right": null,
            "top": null,
            "visibility": null,
            "width": null
          }
        },
        "1537f489f2af40258694dec4f427afb4": {
          "model_module": "@jupyter-widgets/controls",
          "model_name": "ProgressStyleModel",
          "model_module_version": "1.5.0",
          "state": {
            "_model_module": "@jupyter-widgets/controls",
            "_model_module_version": "1.5.0",
            "_model_name": "ProgressStyleModel",
            "_view_count": null,
            "_view_module": "@jupyter-widgets/base",
            "_view_module_version": "1.2.0",
            "_view_name": "StyleView",
            "bar_color": null,
            "description_width": ""
          }
        },
        "8f57a01e9e2e40408a04ae760a9c93f6": {
          "model_module": "@jupyter-widgets/base",
          "model_name": "LayoutModel",
          "model_module_version": "1.2.0",
          "state": {
            "_model_module": "@jupyter-widgets/base",
            "_model_module_version": "1.2.0",
            "_model_name": "LayoutModel",
            "_view_count": null,
            "_view_module": "@jupyter-widgets/base",
            "_view_module_version": "1.2.0",
            "_view_name": "LayoutView",
            "align_content": null,
            "align_items": null,
            "align_self": null,
            "border": null,
            "bottom": null,
            "display": null,
            "flex": null,
            "flex_flow": null,
            "grid_area": null,
            "grid_auto_columns": null,
            "grid_auto_flow": null,
            "grid_auto_rows": null,
            "grid_column": null,
            "grid_gap": null,
            "grid_row": null,
            "grid_template_areas": null,
            "grid_template_columns": null,
            "grid_template_rows": null,
            "height": null,
            "justify_content": null,
            "justify_items": null,
            "left": null,
            "margin": null,
            "max_height": null,
            "max_width": null,
            "min_height": null,
            "min_width": null,
            "object_fit": null,
            "object_position": null,
            "order": null,
            "overflow": null,
            "overflow_x": null,
            "overflow_y": null,
            "padding": null,
            "right": null,
            "top": null,
            "visibility": null,
            "width": null
          }
        },
        "2eef782f7c014ba28111f2ca0f156828": {
          "model_module": "@jupyter-widgets/controls",
          "model_name": "DescriptionStyleModel",
          "model_module_version": "1.5.0",
          "state": {
            "_model_module": "@jupyter-widgets/controls",
            "_model_module_version": "1.5.0",
            "_model_name": "DescriptionStyleModel",
            "_view_count": null,
            "_view_module": "@jupyter-widgets/base",
            "_view_module_version": "1.2.0",
            "_view_name": "StyleView",
            "description_width": ""
          }
        },
        "66be6469b0884bd4945404e2ec14e9d4": {
          "model_module": "@jupyter-widgets/controls",
          "model_name": "HBoxModel",
          "model_module_version": "1.5.0",
          "state": {
            "_dom_classes": [],
            "_model_module": "@jupyter-widgets/controls",
            "_model_module_version": "1.5.0",
            "_model_name": "HBoxModel",
            "_view_count": null,
            "_view_module": "@jupyter-widgets/controls",
            "_view_module_version": "1.5.0",
            "_view_name": "HBoxView",
            "box_style": "",
            "children": [
              "IPY_MODEL_244450087f4645638225beaf77a41501",
              "IPY_MODEL_dc78ddf0cfa9428d8926ea59521adad4",
              "IPY_MODEL_6bbce16e782b4f40883b936211ca9560"
            ],
            "layout": "IPY_MODEL_df033de9b2094da0915c37782a0a96c8"
          }
        },
        "244450087f4645638225beaf77a41501": {
          "model_module": "@jupyter-widgets/controls",
          "model_name": "HTMLModel",
          "model_module_version": "1.5.0",
          "state": {
            "_dom_classes": [],
            "_model_module": "@jupyter-widgets/controls",
            "_model_module_version": "1.5.0",
            "_model_name": "HTMLModel",
            "_view_count": null,
            "_view_module": "@jupyter-widgets/controls",
            "_view_module_version": "1.5.0",
            "_view_name": "HTMLView",
            "description": "",
            "description_tooltip": null,
            "layout": "IPY_MODEL_765c8a479a7e4477b17083b349cbba38",
            "placeholder": "​",
            "style": "IPY_MODEL_6a65b381c1fb4f55a2815c5c54b7fd36",
            "value": "tokenizer.json: 100%"
          }
        },
        "dc78ddf0cfa9428d8926ea59521adad4": {
          "model_module": "@jupyter-widgets/controls",
          "model_name": "FloatProgressModel",
          "model_module_version": "1.5.0",
          "state": {
            "_dom_classes": [],
            "_model_module": "@jupyter-widgets/controls",
            "_model_module_version": "1.5.0",
            "_model_name": "FloatProgressModel",
            "_view_count": null,
            "_view_module": "@jupyter-widgets/controls",
            "_view_module_version": "1.5.0",
            "_view_name": "ProgressView",
            "bar_style": "success",
            "description": "",
            "description_tooltip": null,
            "layout": "IPY_MODEL_30f8a81e983145799c30607d05330de9",
            "max": 1961828,
            "min": 0,
            "orientation": "horizontal",
            "style": "IPY_MODEL_c286ed8f26e44bf5a111991f14889790",
            "value": 1961828
          }
        },
        "6bbce16e782b4f40883b936211ca9560": {
          "model_module": "@jupyter-widgets/controls",
          "model_name": "HTMLModel",
          "model_module_version": "1.5.0",
          "state": {
            "_dom_classes": [],
            "_model_module": "@jupyter-widgets/controls",
            "_model_module_version": "1.5.0",
            "_model_name": "HTMLModel",
            "_view_count": null,
            "_view_module": "@jupyter-widgets/controls",
            "_view_module_version": "1.5.0",
            "_view_name": "HTMLView",
            "description": "",
            "description_tooltip": null,
            "layout": "IPY_MODEL_a4b5bc51967a40858a65caf2f05ca475",
            "placeholder": "​",
            "style": "IPY_MODEL_765b18e2320840e4a2cc0fdb76d7c305",
            "value": " 1.96M/1.96M [00:00&lt;00:00, 4.60MB/s]"
          }
        },
        "df033de9b2094da0915c37782a0a96c8": {
          "model_module": "@jupyter-widgets/base",
          "model_name": "LayoutModel",
          "model_module_version": "1.2.0",
          "state": {
            "_model_module": "@jupyter-widgets/base",
            "_model_module_version": "1.2.0",
            "_model_name": "LayoutModel",
            "_view_count": null,
            "_view_module": "@jupyter-widgets/base",
            "_view_module_version": "1.2.0",
            "_view_name": "LayoutView",
            "align_content": null,
            "align_items": null,
            "align_self": null,
            "border": null,
            "bottom": null,
            "display": null,
            "flex": null,
            "flex_flow": null,
            "grid_area": null,
            "grid_auto_columns": null,
            "grid_auto_flow": null,
            "grid_auto_rows": null,
            "grid_column": null,
            "grid_gap": null,
            "grid_row": null,
            "grid_template_areas": null,
            "grid_template_columns": null,
            "grid_template_rows": null,
            "height": null,
            "justify_content": null,
            "justify_items": null,
            "left": null,
            "margin": null,
            "max_height": null,
            "max_width": null,
            "min_height": null,
            "min_width": null,
            "object_fit": null,
            "object_position": null,
            "order": null,
            "overflow": null,
            "overflow_x": null,
            "overflow_y": null,
            "padding": null,
            "right": null,
            "top": null,
            "visibility": null,
            "width": null
          }
        },
        "765c8a479a7e4477b17083b349cbba38": {
          "model_module": "@jupyter-widgets/base",
          "model_name": "LayoutModel",
          "model_module_version": "1.2.0",
          "state": {
            "_model_module": "@jupyter-widgets/base",
            "_model_module_version": "1.2.0",
            "_model_name": "LayoutModel",
            "_view_count": null,
            "_view_module": "@jupyter-widgets/base",
            "_view_module_version": "1.2.0",
            "_view_name": "LayoutView",
            "align_content": null,
            "align_items": null,
            "align_self": null,
            "border": null,
            "bottom": null,
            "display": null,
            "flex": null,
            "flex_flow": null,
            "grid_area": null,
            "grid_auto_columns": null,
            "grid_auto_flow": null,
            "grid_auto_rows": null,
            "grid_column": null,
            "grid_gap": null,
            "grid_row": null,
            "grid_template_areas": null,
            "grid_template_columns": null,
            "grid_template_rows": null,
            "height": null,
            "justify_content": null,
            "justify_items": null,
            "left": null,
            "margin": null,
            "max_height": null,
            "max_width": null,
            "min_height": null,
            "min_width": null,
            "object_fit": null,
            "object_position": null,
            "order": null,
            "overflow": null,
            "overflow_x": null,
            "overflow_y": null,
            "padding": null,
            "right": null,
            "top": null,
            "visibility": null,
            "width": null
          }
        },
        "6a65b381c1fb4f55a2815c5c54b7fd36": {
          "model_module": "@jupyter-widgets/controls",
          "model_name": "DescriptionStyleModel",
          "model_module_version": "1.5.0",
          "state": {
            "_model_module": "@jupyter-widgets/controls",
            "_model_module_version": "1.5.0",
            "_model_name": "DescriptionStyleModel",
            "_view_count": null,
            "_view_module": "@jupyter-widgets/base",
            "_view_module_version": "1.2.0",
            "_view_name": "StyleView",
            "description_width": ""
          }
        },
        "30f8a81e983145799c30607d05330de9": {
          "model_module": "@jupyter-widgets/base",
          "model_name": "LayoutModel",
          "model_module_version": "1.2.0",
          "state": {
            "_model_module": "@jupyter-widgets/base",
            "_model_module_version": "1.2.0",
            "_model_name": "LayoutModel",
            "_view_count": null,
            "_view_module": "@jupyter-widgets/base",
            "_view_module_version": "1.2.0",
            "_view_name": "LayoutView",
            "align_content": null,
            "align_items": null,
            "align_self": null,
            "border": null,
            "bottom": null,
            "display": null,
            "flex": null,
            "flex_flow": null,
            "grid_area": null,
            "grid_auto_columns": null,
            "grid_auto_flow": null,
            "grid_auto_rows": null,
            "grid_column": null,
            "grid_gap": null,
            "grid_row": null,
            "grid_template_areas": null,
            "grid_template_columns": null,
            "grid_template_rows": null,
            "height": null,
            "justify_content": null,
            "justify_items": null,
            "left": null,
            "margin": null,
            "max_height": null,
            "max_width": null,
            "min_height": null,
            "min_width": null,
            "object_fit": null,
            "object_position": null,
            "order": null,
            "overflow": null,
            "overflow_x": null,
            "overflow_y": null,
            "padding": null,
            "right": null,
            "top": null,
            "visibility": null,
            "width": null
          }
        },
        "c286ed8f26e44bf5a111991f14889790": {
          "model_module": "@jupyter-widgets/controls",
          "model_name": "ProgressStyleModel",
          "model_module_version": "1.5.0",
          "state": {
            "_model_module": "@jupyter-widgets/controls",
            "_model_module_version": "1.5.0",
            "_model_name": "ProgressStyleModel",
            "_view_count": null,
            "_view_module": "@jupyter-widgets/base",
            "_view_module_version": "1.2.0",
            "_view_name": "StyleView",
            "bar_color": null,
            "description_width": ""
          }
        },
        "a4b5bc51967a40858a65caf2f05ca475": {
          "model_module": "@jupyter-widgets/base",
          "model_name": "LayoutModel",
          "model_module_version": "1.2.0",
          "state": {
            "_model_module": "@jupyter-widgets/base",
            "_model_module_version": "1.2.0",
            "_model_name": "LayoutModel",
            "_view_count": null,
            "_view_module": "@jupyter-widgets/base",
            "_view_module_version": "1.2.0",
            "_view_name": "LayoutView",
            "align_content": null,
            "align_items": null,
            "align_self": null,
            "border": null,
            "bottom": null,
            "display": null,
            "flex": null,
            "flex_flow": null,
            "grid_area": null,
            "grid_auto_columns": null,
            "grid_auto_flow": null,
            "grid_auto_rows": null,
            "grid_column": null,
            "grid_gap": null,
            "grid_row": null,
            "grid_template_areas": null,
            "grid_template_columns": null,
            "grid_template_rows": null,
            "height": null,
            "justify_content": null,
            "justify_items": null,
            "left": null,
            "margin": null,
            "max_height": null,
            "max_width": null,
            "min_height": null,
            "min_width": null,
            "object_fit": null,
            "object_position": null,
            "order": null,
            "overflow": null,
            "overflow_x": null,
            "overflow_y": null,
            "padding": null,
            "right": null,
            "top": null,
            "visibility": null,
            "width": null
          }
        },
        "765b18e2320840e4a2cc0fdb76d7c305": {
          "model_module": "@jupyter-widgets/controls",
          "model_name": "DescriptionStyleModel",
          "model_module_version": "1.5.0",
          "state": {
            "_model_module": "@jupyter-widgets/controls",
            "_model_module_version": "1.5.0",
            "_model_name": "DescriptionStyleModel",
            "_view_count": null,
            "_view_module": "@jupyter-widgets/base",
            "_view_module_version": "1.2.0",
            "_view_name": "StyleView",
            "description_width": ""
          }
        },
        "af8d244c34514b92bd224c252b00d1c7": {
          "model_module": "@jupyter-widgets/controls",
          "model_name": "HBoxModel",
          "model_module_version": "1.5.0",
          "state": {
            "_dom_classes": [],
            "_model_module": "@jupyter-widgets/controls",
            "_model_module_version": "1.5.0",
            "_model_name": "HBoxModel",
            "_view_count": null,
            "_view_module": "@jupyter-widgets/controls",
            "_view_module_version": "1.5.0",
            "_view_name": "HBoxView",
            "box_style": "",
            "children": [
              "IPY_MODEL_54d12c3ba677425a9f2da190a29651cc",
              "IPY_MODEL_34243fc2155e4d399b7cbad2d893891e",
              "IPY_MODEL_219ab0e8fef6499a8266a8b7ac338f6e"
            ],
            "layout": "IPY_MODEL_cc09ff9eeaa94684afa169dc265716f4"
          }
        },
        "54d12c3ba677425a9f2da190a29651cc": {
          "model_module": "@jupyter-widgets/controls",
          "model_name": "HTMLModel",
          "model_module_version": "1.5.0",
          "state": {
            "_dom_classes": [],
            "_model_module": "@jupyter-widgets/controls",
            "_model_module_version": "1.5.0",
            "_model_name": "HTMLModel",
            "_view_count": null,
            "_view_module": "@jupyter-widgets/controls",
            "_view_module_version": "1.5.0",
            "_view_name": "HTMLView",
            "description": "",
            "description_tooltip": null,
            "layout": "IPY_MODEL_363daeccd248413a9d79469624906f97",
            "placeholder": "​",
            "style": "IPY_MODEL_d0269a5cbef54393b2e53daa060d866d",
            "value": "Map: 100%"
          }
        },
        "34243fc2155e4d399b7cbad2d893891e": {
          "model_module": "@jupyter-widgets/controls",
          "model_name": "FloatProgressModel",
          "model_module_version": "1.5.0",
          "state": {
            "_dom_classes": [],
            "_model_module": "@jupyter-widgets/controls",
            "_model_module_version": "1.5.0",
            "_model_name": "FloatProgressModel",
            "_view_count": null,
            "_view_module": "@jupyter-widgets/controls",
            "_view_module_version": "1.5.0",
            "_view_name": "ProgressView",
            "bar_style": "success",
            "description": "",
            "description_tooltip": null,
            "layout": "IPY_MODEL_8f70926305ea4f388ad6627fa5908e74",
            "max": 42308,
            "min": 0,
            "orientation": "horizontal",
            "style": "IPY_MODEL_1b090c09f1884deaa0aa5cc6349ccf9f",
            "value": 42308
          }
        },
        "219ab0e8fef6499a8266a8b7ac338f6e": {
          "model_module": "@jupyter-widgets/controls",
          "model_name": "HTMLModel",
          "model_module_version": "1.5.0",
          "state": {
            "_dom_classes": [],
            "_model_module": "@jupyter-widgets/controls",
            "_model_module_version": "1.5.0",
            "_model_name": "HTMLModel",
            "_view_count": null,
            "_view_module": "@jupyter-widgets/controls",
            "_view_module_version": "1.5.0",
            "_view_name": "HTMLView",
            "description": "",
            "description_tooltip": null,
            "layout": "IPY_MODEL_887713c44c93463483c302ad7d5c6072",
            "placeholder": "​",
            "style": "IPY_MODEL_0d0e886776794bd79da21026e7a1b4e9",
            "value": " 42308/42308 [00:41&lt;00:00, 1917.19 examples/s]"
          }
        },
        "cc09ff9eeaa94684afa169dc265716f4": {
          "model_module": "@jupyter-widgets/base",
          "model_name": "LayoutModel",
          "model_module_version": "1.2.0",
          "state": {
            "_model_module": "@jupyter-widgets/base",
            "_model_module_version": "1.2.0",
            "_model_name": "LayoutModel",
            "_view_count": null,
            "_view_module": "@jupyter-widgets/base",
            "_view_module_version": "1.2.0",
            "_view_name": "LayoutView",
            "align_content": null,
            "align_items": null,
            "align_self": null,
            "border": null,
            "bottom": null,
            "display": null,
            "flex": null,
            "flex_flow": null,
            "grid_area": null,
            "grid_auto_columns": null,
            "grid_auto_flow": null,
            "grid_auto_rows": null,
            "grid_column": null,
            "grid_gap": null,
            "grid_row": null,
            "grid_template_areas": null,
            "grid_template_columns": null,
            "grid_template_rows": null,
            "height": null,
            "justify_content": null,
            "justify_items": null,
            "left": null,
            "margin": null,
            "max_height": null,
            "max_width": null,
            "min_height": null,
            "min_width": null,
            "object_fit": null,
            "object_position": null,
            "order": null,
            "overflow": null,
            "overflow_x": null,
            "overflow_y": null,
            "padding": null,
            "right": null,
            "top": null,
            "visibility": null,
            "width": null
          }
        },
        "363daeccd248413a9d79469624906f97": {
          "model_module": "@jupyter-widgets/base",
          "model_name": "LayoutModel",
          "model_module_version": "1.2.0",
          "state": {
            "_model_module": "@jupyter-widgets/base",
            "_model_module_version": "1.2.0",
            "_model_name": "LayoutModel",
            "_view_count": null,
            "_view_module": "@jupyter-widgets/base",
            "_view_module_version": "1.2.0",
            "_view_name": "LayoutView",
            "align_content": null,
            "align_items": null,
            "align_self": null,
            "border": null,
            "bottom": null,
            "display": null,
            "flex": null,
            "flex_flow": null,
            "grid_area": null,
            "grid_auto_columns": null,
            "grid_auto_flow": null,
            "grid_auto_rows": null,
            "grid_column": null,
            "grid_gap": null,
            "grid_row": null,
            "grid_template_areas": null,
            "grid_template_columns": null,
            "grid_template_rows": null,
            "height": null,
            "justify_content": null,
            "justify_items": null,
            "left": null,
            "margin": null,
            "max_height": null,
            "max_width": null,
            "min_height": null,
            "min_width": null,
            "object_fit": null,
            "object_position": null,
            "order": null,
            "overflow": null,
            "overflow_x": null,
            "overflow_y": null,
            "padding": null,
            "right": null,
            "top": null,
            "visibility": null,
            "width": null
          }
        },
        "d0269a5cbef54393b2e53daa060d866d": {
          "model_module": "@jupyter-widgets/controls",
          "model_name": "DescriptionStyleModel",
          "model_module_version": "1.5.0",
          "state": {
            "_model_module": "@jupyter-widgets/controls",
            "_model_module_version": "1.5.0",
            "_model_name": "DescriptionStyleModel",
            "_view_count": null,
            "_view_module": "@jupyter-widgets/base",
            "_view_module_version": "1.2.0",
            "_view_name": "StyleView",
            "description_width": ""
          }
        },
        "8f70926305ea4f388ad6627fa5908e74": {
          "model_module": "@jupyter-widgets/base",
          "model_name": "LayoutModel",
          "model_module_version": "1.2.0",
          "state": {
            "_model_module": "@jupyter-widgets/base",
            "_model_module_version": "1.2.0",
            "_model_name": "LayoutModel",
            "_view_count": null,
            "_view_module": "@jupyter-widgets/base",
            "_view_module_version": "1.2.0",
            "_view_name": "LayoutView",
            "align_content": null,
            "align_items": null,
            "align_self": null,
            "border": null,
            "bottom": null,
            "display": null,
            "flex": null,
            "flex_flow": null,
            "grid_area": null,
            "grid_auto_columns": null,
            "grid_auto_flow": null,
            "grid_auto_rows": null,
            "grid_column": null,
            "grid_gap": null,
            "grid_row": null,
            "grid_template_areas": null,
            "grid_template_columns": null,
            "grid_template_rows": null,
            "height": null,
            "justify_content": null,
            "justify_items": null,
            "left": null,
            "margin": null,
            "max_height": null,
            "max_width": null,
            "min_height": null,
            "min_width": null,
            "object_fit": null,
            "object_position": null,
            "order": null,
            "overflow": null,
            "overflow_x": null,
            "overflow_y": null,
            "padding": null,
            "right": null,
            "top": null,
            "visibility": null,
            "width": null
          }
        },
        "1b090c09f1884deaa0aa5cc6349ccf9f": {
          "model_module": "@jupyter-widgets/controls",
          "model_name": "ProgressStyleModel",
          "model_module_version": "1.5.0",
          "state": {
            "_model_module": "@jupyter-widgets/controls",
            "_model_module_version": "1.5.0",
            "_model_name": "ProgressStyleModel",
            "_view_count": null,
            "_view_module": "@jupyter-widgets/base",
            "_view_module_version": "1.2.0",
            "_view_name": "StyleView",
            "bar_color": null,
            "description_width": ""
          }
        },
        "887713c44c93463483c302ad7d5c6072": {
          "model_module": "@jupyter-widgets/base",
          "model_name": "LayoutModel",
          "model_module_version": "1.2.0",
          "state": {
            "_model_module": "@jupyter-widgets/base",
            "_model_module_version": "1.2.0",
            "_model_name": "LayoutModel",
            "_view_count": null,
            "_view_module": "@jupyter-widgets/base",
            "_view_module_version": "1.2.0",
            "_view_name": "LayoutView",
            "align_content": null,
            "align_items": null,
            "align_self": null,
            "border": null,
            "bottom": null,
            "display": null,
            "flex": null,
            "flex_flow": null,
            "grid_area": null,
            "grid_auto_columns": null,
            "grid_auto_flow": null,
            "grid_auto_rows": null,
            "grid_column": null,
            "grid_gap": null,
            "grid_row": null,
            "grid_template_areas": null,
            "grid_template_columns": null,
            "grid_template_rows": null,
            "height": null,
            "justify_content": null,
            "justify_items": null,
            "left": null,
            "margin": null,
            "max_height": null,
            "max_width": null,
            "min_height": null,
            "min_width": null,
            "object_fit": null,
            "object_position": null,
            "order": null,
            "overflow": null,
            "overflow_x": null,
            "overflow_y": null,
            "padding": null,
            "right": null,
            "top": null,
            "visibility": null,
            "width": null
          }
        },
        "0d0e886776794bd79da21026e7a1b4e9": {
          "model_module": "@jupyter-widgets/controls",
          "model_name": "DescriptionStyleModel",
          "model_module_version": "1.5.0",
          "state": {
            "_model_module": "@jupyter-widgets/controls",
            "_model_module_version": "1.5.0",
            "_model_name": "DescriptionStyleModel",
            "_view_count": null,
            "_view_module": "@jupyter-widgets/base",
            "_view_module_version": "1.2.0",
            "_view_name": "StyleView",
            "description_width": ""
          }
        },
        "00689968a7124cb590c9c99813aa76f1": {
          "model_module": "@jupyter-widgets/controls",
          "model_name": "HBoxModel",
          "model_module_version": "1.5.0",
          "state": {
            "_dom_classes": [],
            "_model_module": "@jupyter-widgets/controls",
            "_model_module_version": "1.5.0",
            "_model_name": "HBoxModel",
            "_view_count": null,
            "_view_module": "@jupyter-widgets/controls",
            "_view_module_version": "1.5.0",
            "_view_name": "HBoxView",
            "box_style": "",
            "children": [
              "IPY_MODEL_b206763ec8334e71ba836bf0fd1a9cd4",
              "IPY_MODEL_7cbb5fadce5849f2aaf55467a44bddf3",
              "IPY_MODEL_4da93f2106c144beabbbd8bba1728e6b"
            ],
            "layout": "IPY_MODEL_7d2502521bc94273a5784bd2787f4862"
          }
        },
        "b206763ec8334e71ba836bf0fd1a9cd4": {
          "model_module": "@jupyter-widgets/controls",
          "model_name": "HTMLModel",
          "model_module_version": "1.5.0",
          "state": {
            "_dom_classes": [],
            "_model_module": "@jupyter-widgets/controls",
            "_model_module_version": "1.5.0",
            "_model_name": "HTMLModel",
            "_view_count": null,
            "_view_module": "@jupyter-widgets/controls",
            "_view_module_version": "1.5.0",
            "_view_name": "HTMLView",
            "description": "",
            "description_tooltip": null,
            "layout": "IPY_MODEL_a4fea76477dd4cb2aee81dbddf2b8a46",
            "placeholder": "​",
            "style": "IPY_MODEL_f7a93147205644a88930a25dbcdbfd90",
            "value": "Map: 100%"
          }
        },
        "7cbb5fadce5849f2aaf55467a44bddf3": {
          "model_module": "@jupyter-widgets/controls",
          "model_name": "FloatProgressModel",
          "model_module_version": "1.5.0",
          "state": {
            "_dom_classes": [],
            "_model_module": "@jupyter-widgets/controls",
            "_model_module_version": "1.5.0",
            "_model_name": "FloatProgressModel",
            "_view_count": null,
            "_view_module": "@jupyter-widgets/controls",
            "_view_module_version": "1.5.0",
            "_view_name": "ProgressView",
            "bar_style": "success",
            "description": "",
            "description_tooltip": null,
            "layout": "IPY_MODEL_da17978db47144f7ba86dfc2aa7a9194",
            "max": 18132,
            "min": 0,
            "orientation": "horizontal",
            "style": "IPY_MODEL_bd262850922c46cc8ff3b22c3d2c7303",
            "value": 18132
          }
        },
        "4da93f2106c144beabbbd8bba1728e6b": {
          "model_module": "@jupyter-widgets/controls",
          "model_name": "HTMLModel",
          "model_module_version": "1.5.0",
          "state": {
            "_dom_classes": [],
            "_model_module": "@jupyter-widgets/controls",
            "_model_module_version": "1.5.0",
            "_model_name": "HTMLModel",
            "_view_count": null,
            "_view_module": "@jupyter-widgets/controls",
            "_view_module_version": "1.5.0",
            "_view_name": "HTMLView",
            "description": "",
            "description_tooltip": null,
            "layout": "IPY_MODEL_9926854431d246ef96c3de1a99abf2f2",
            "placeholder": "​",
            "style": "IPY_MODEL_3d58dafccc784fea9d7939a5878c977a",
            "value": " 18132/18132 [00:11&lt;00:00, 1882.27 examples/s]"
          }
        },
        "7d2502521bc94273a5784bd2787f4862": {
          "model_module": "@jupyter-widgets/base",
          "model_name": "LayoutModel",
          "model_module_version": "1.2.0",
          "state": {
            "_model_module": "@jupyter-widgets/base",
            "_model_module_version": "1.2.0",
            "_model_name": "LayoutModel",
            "_view_count": null,
            "_view_module": "@jupyter-widgets/base",
            "_view_module_version": "1.2.0",
            "_view_name": "LayoutView",
            "align_content": null,
            "align_items": null,
            "align_self": null,
            "border": null,
            "bottom": null,
            "display": null,
            "flex": null,
            "flex_flow": null,
            "grid_area": null,
            "grid_auto_columns": null,
            "grid_auto_flow": null,
            "grid_auto_rows": null,
            "grid_column": null,
            "grid_gap": null,
            "grid_row": null,
            "grid_template_areas": null,
            "grid_template_columns": null,
            "grid_template_rows": null,
            "height": null,
            "justify_content": null,
            "justify_items": null,
            "left": null,
            "margin": null,
            "max_height": null,
            "max_width": null,
            "min_height": null,
            "min_width": null,
            "object_fit": null,
            "object_position": null,
            "order": null,
            "overflow": null,
            "overflow_x": null,
            "overflow_y": null,
            "padding": null,
            "right": null,
            "top": null,
            "visibility": null,
            "width": null
          }
        },
        "a4fea76477dd4cb2aee81dbddf2b8a46": {
          "model_module": "@jupyter-widgets/base",
          "model_name": "LayoutModel",
          "model_module_version": "1.2.0",
          "state": {
            "_model_module": "@jupyter-widgets/base",
            "_model_module_version": "1.2.0",
            "_model_name": "LayoutModel",
            "_view_count": null,
            "_view_module": "@jupyter-widgets/base",
            "_view_module_version": "1.2.0",
            "_view_name": "LayoutView",
            "align_content": null,
            "align_items": null,
            "align_self": null,
            "border": null,
            "bottom": null,
            "display": null,
            "flex": null,
            "flex_flow": null,
            "grid_area": null,
            "grid_auto_columns": null,
            "grid_auto_flow": null,
            "grid_auto_rows": null,
            "grid_column": null,
            "grid_gap": null,
            "grid_row": null,
            "grid_template_areas": null,
            "grid_template_columns": null,
            "grid_template_rows": null,
            "height": null,
            "justify_content": null,
            "justify_items": null,
            "left": null,
            "margin": null,
            "max_height": null,
            "max_width": null,
            "min_height": null,
            "min_width": null,
            "object_fit": null,
            "object_position": null,
            "order": null,
            "overflow": null,
            "overflow_x": null,
            "overflow_y": null,
            "padding": null,
            "right": null,
            "top": null,
            "visibility": null,
            "width": null
          }
        },
        "f7a93147205644a88930a25dbcdbfd90": {
          "model_module": "@jupyter-widgets/controls",
          "model_name": "DescriptionStyleModel",
          "model_module_version": "1.5.0",
          "state": {
            "_model_module": "@jupyter-widgets/controls",
            "_model_module_version": "1.5.0",
            "_model_name": "DescriptionStyleModel",
            "_view_count": null,
            "_view_module": "@jupyter-widgets/base",
            "_view_module_version": "1.2.0",
            "_view_name": "StyleView",
            "description_width": ""
          }
        },
        "da17978db47144f7ba86dfc2aa7a9194": {
          "model_module": "@jupyter-widgets/base",
          "model_name": "LayoutModel",
          "model_module_version": "1.2.0",
          "state": {
            "_model_module": "@jupyter-widgets/base",
            "_model_module_version": "1.2.0",
            "_model_name": "LayoutModel",
            "_view_count": null,
            "_view_module": "@jupyter-widgets/base",
            "_view_module_version": "1.2.0",
            "_view_name": "LayoutView",
            "align_content": null,
            "align_items": null,
            "align_self": null,
            "border": null,
            "bottom": null,
            "display": null,
            "flex": null,
            "flex_flow": null,
            "grid_area": null,
            "grid_auto_columns": null,
            "grid_auto_flow": null,
            "grid_auto_rows": null,
            "grid_column": null,
            "grid_gap": null,
            "grid_row": null,
            "grid_template_areas": null,
            "grid_template_columns": null,
            "grid_template_rows": null,
            "height": null,
            "justify_content": null,
            "justify_items": null,
            "left": null,
            "margin": null,
            "max_height": null,
            "max_width": null,
            "min_height": null,
            "min_width": null,
            "object_fit": null,
            "object_position": null,
            "order": null,
            "overflow": null,
            "overflow_x": null,
            "overflow_y": null,
            "padding": null,
            "right": null,
            "top": null,
            "visibility": null,
            "width": null
          }
        },
        "bd262850922c46cc8ff3b22c3d2c7303": {
          "model_module": "@jupyter-widgets/controls",
          "model_name": "ProgressStyleModel",
          "model_module_version": "1.5.0",
          "state": {
            "_model_module": "@jupyter-widgets/controls",
            "_model_module_version": "1.5.0",
            "_model_name": "ProgressStyleModel",
            "_view_count": null,
            "_view_module": "@jupyter-widgets/base",
            "_view_module_version": "1.2.0",
            "_view_name": "StyleView",
            "bar_color": null,
            "description_width": ""
          }
        },
        "9926854431d246ef96c3de1a99abf2f2": {
          "model_module": "@jupyter-widgets/base",
          "model_name": "LayoutModel",
          "model_module_version": "1.2.0",
          "state": {
            "_model_module": "@jupyter-widgets/base",
            "_model_module_version": "1.2.0",
            "_model_name": "LayoutModel",
            "_view_count": null,
            "_view_module": "@jupyter-widgets/base",
            "_view_module_version": "1.2.0",
            "_view_name": "LayoutView",
            "align_content": null,
            "align_items": null,
            "align_self": null,
            "border": null,
            "bottom": null,
            "display": null,
            "flex": null,
            "flex_flow": null,
            "grid_area": null,
            "grid_auto_columns": null,
            "grid_auto_flow": null,
            "grid_auto_rows": null,
            "grid_column": null,
            "grid_gap": null,
            "grid_row": null,
            "grid_template_areas": null,
            "grid_template_columns": null,
            "grid_template_rows": null,
            "height": null,
            "justify_content": null,
            "justify_items": null,
            "left": null,
            "margin": null,
            "max_height": null,
            "max_width": null,
            "min_height": null,
            "min_width": null,
            "object_fit": null,
            "object_position": null,
            "order": null,
            "overflow": null,
            "overflow_x": null,
            "overflow_y": null,
            "padding": null,
            "right": null,
            "top": null,
            "visibility": null,
            "width": null
          }
        },
        "3d58dafccc784fea9d7939a5878c977a": {
          "model_module": "@jupyter-widgets/controls",
          "model_name": "DescriptionStyleModel",
          "model_module_version": "1.5.0",
          "state": {
            "_model_module": "@jupyter-widgets/controls",
            "_model_module_version": "1.5.0",
            "_model_name": "DescriptionStyleModel",
            "_view_count": null,
            "_view_module": "@jupyter-widgets/base",
            "_view_module_version": "1.2.0",
            "_view_name": "StyleView",
            "description_width": ""
          }
        },
        "ce9861cddcad42b5b75d6634a14815d4": {
          "model_module": "@jupyter-widgets/controls",
          "model_name": "HBoxModel",
          "model_module_version": "1.5.0",
          "state": {
            "_dom_classes": [],
            "_model_module": "@jupyter-widgets/controls",
            "_model_module_version": "1.5.0",
            "_model_name": "HBoxModel",
            "_view_count": null,
            "_view_module": "@jupyter-widgets/controls",
            "_view_module_version": "1.5.0",
            "_view_name": "HBoxView",
            "box_style": "",
            "children": [
              "IPY_MODEL_1cd73dd3b86d4c01aec270974fcff7ec",
              "IPY_MODEL_81e6d5f78455436398d308a14f5a64f7",
              "IPY_MODEL_15c7190742e240efb2a92f386b6df0b2"
            ],
            "layout": "IPY_MODEL_e412d18c494c40a8bed198e02261fc34"
          }
        },
        "1cd73dd3b86d4c01aec270974fcff7ec": {
          "model_module": "@jupyter-widgets/controls",
          "model_name": "HTMLModel",
          "model_module_version": "1.5.0",
          "state": {
            "_dom_classes": [],
            "_model_module": "@jupyter-widgets/controls",
            "_model_module_version": "1.5.0",
            "_model_name": "HTMLModel",
            "_view_count": null,
            "_view_module": "@jupyter-widgets/controls",
            "_view_module_version": "1.5.0",
            "_view_name": "HTMLView",
            "description": "",
            "description_tooltip": null,
            "layout": "IPY_MODEL_4f4bc0780e904a7d99f46e5880580ac6",
            "placeholder": "​",
            "style": "IPY_MODEL_8e59a62375d34c279f790afafcba2e58",
            "value": "Map: 100%"
          }
        },
        "81e6d5f78455436398d308a14f5a64f7": {
          "model_module": "@jupyter-widgets/controls",
          "model_name": "FloatProgressModel",
          "model_module_version": "1.5.0",
          "state": {
            "_dom_classes": [],
            "_model_module": "@jupyter-widgets/controls",
            "_model_module_version": "1.5.0",
            "_model_name": "FloatProgressModel",
            "_view_count": null,
            "_view_module": "@jupyter-widgets/controls",
            "_view_module_version": "1.5.0",
            "_view_name": "ProgressView",
            "bar_style": "success",
            "description": "",
            "description_tooltip": null,
            "layout": "IPY_MODEL_f9d4f210d26741e2ae735ce9a5aeea36",
            "max": 20000,
            "min": 0,
            "orientation": "horizontal",
            "style": "IPY_MODEL_3dde80ffb8db4b6a9cd71d5102632834",
            "value": 20000
          }
        },
        "15c7190742e240efb2a92f386b6df0b2": {
          "model_module": "@jupyter-widgets/controls",
          "model_name": "HTMLModel",
          "model_module_version": "1.5.0",
          "state": {
            "_dom_classes": [],
            "_model_module": "@jupyter-widgets/controls",
            "_model_module_version": "1.5.0",
            "_model_name": "HTMLModel",
            "_view_count": null,
            "_view_module": "@jupyter-widgets/controls",
            "_view_module_version": "1.5.0",
            "_view_name": "HTMLView",
            "description": "",
            "description_tooltip": null,
            "layout": "IPY_MODEL_1eacd67b90a64465877d5865190cf350",
            "placeholder": "​",
            "style": "IPY_MODEL_66b4695de90047edbcdbc86ec144b8a5",
            "value": " 20000/20000 [00:10&lt;00:00, 2236.92 examples/s]"
          }
        },
        "e412d18c494c40a8bed198e02261fc34": {
          "model_module": "@jupyter-widgets/base",
          "model_name": "LayoutModel",
          "model_module_version": "1.2.0",
          "state": {
            "_model_module": "@jupyter-widgets/base",
            "_model_module_version": "1.2.0",
            "_model_name": "LayoutModel",
            "_view_count": null,
            "_view_module": "@jupyter-widgets/base",
            "_view_module_version": "1.2.0",
            "_view_name": "LayoutView",
            "align_content": null,
            "align_items": null,
            "align_self": null,
            "border": null,
            "bottom": null,
            "display": null,
            "flex": null,
            "flex_flow": null,
            "grid_area": null,
            "grid_auto_columns": null,
            "grid_auto_flow": null,
            "grid_auto_rows": null,
            "grid_column": null,
            "grid_gap": null,
            "grid_row": null,
            "grid_template_areas": null,
            "grid_template_columns": null,
            "grid_template_rows": null,
            "height": null,
            "justify_content": null,
            "justify_items": null,
            "left": null,
            "margin": null,
            "max_height": null,
            "max_width": null,
            "min_height": null,
            "min_width": null,
            "object_fit": null,
            "object_position": null,
            "order": null,
            "overflow": null,
            "overflow_x": null,
            "overflow_y": null,
            "padding": null,
            "right": null,
            "top": null,
            "visibility": null,
            "width": null
          }
        },
        "4f4bc0780e904a7d99f46e5880580ac6": {
          "model_module": "@jupyter-widgets/base",
          "model_name": "LayoutModel",
          "model_module_version": "1.2.0",
          "state": {
            "_model_module": "@jupyter-widgets/base",
            "_model_module_version": "1.2.0",
            "_model_name": "LayoutModel",
            "_view_count": null,
            "_view_module": "@jupyter-widgets/base",
            "_view_module_version": "1.2.0",
            "_view_name": "LayoutView",
            "align_content": null,
            "align_items": null,
            "align_self": null,
            "border": null,
            "bottom": null,
            "display": null,
            "flex": null,
            "flex_flow": null,
            "grid_area": null,
            "grid_auto_columns": null,
            "grid_auto_flow": null,
            "grid_auto_rows": null,
            "grid_column": null,
            "grid_gap": null,
            "grid_row": null,
            "grid_template_areas": null,
            "grid_template_columns": null,
            "grid_template_rows": null,
            "height": null,
            "justify_content": null,
            "justify_items": null,
            "left": null,
            "margin": null,
            "max_height": null,
            "max_width": null,
            "min_height": null,
            "min_width": null,
            "object_fit": null,
            "object_position": null,
            "order": null,
            "overflow": null,
            "overflow_x": null,
            "overflow_y": null,
            "padding": null,
            "right": null,
            "top": null,
            "visibility": null,
            "width": null
          }
        },
        "8e59a62375d34c279f790afafcba2e58": {
          "model_module": "@jupyter-widgets/controls",
          "model_name": "DescriptionStyleModel",
          "model_module_version": "1.5.0",
          "state": {
            "_model_module": "@jupyter-widgets/controls",
            "_model_module_version": "1.5.0",
            "_model_name": "DescriptionStyleModel",
            "_view_count": null,
            "_view_module": "@jupyter-widgets/base",
            "_view_module_version": "1.2.0",
            "_view_name": "StyleView",
            "description_width": ""
          }
        },
        "f9d4f210d26741e2ae735ce9a5aeea36": {
          "model_module": "@jupyter-widgets/base",
          "model_name": "LayoutModel",
          "model_module_version": "1.2.0",
          "state": {
            "_model_module": "@jupyter-widgets/base",
            "_model_module_version": "1.2.0",
            "_model_name": "LayoutModel",
            "_view_count": null,
            "_view_module": "@jupyter-widgets/base",
            "_view_module_version": "1.2.0",
            "_view_name": "LayoutView",
            "align_content": null,
            "align_items": null,
            "align_self": null,
            "border": null,
            "bottom": null,
            "display": null,
            "flex": null,
            "flex_flow": null,
            "grid_area": null,
            "grid_auto_columns": null,
            "grid_auto_flow": null,
            "grid_auto_rows": null,
            "grid_column": null,
            "grid_gap": null,
            "grid_row": null,
            "grid_template_areas": null,
            "grid_template_columns": null,
            "grid_template_rows": null,
            "height": null,
            "justify_content": null,
            "justify_items": null,
            "left": null,
            "margin": null,
            "max_height": null,
            "max_width": null,
            "min_height": null,
            "min_width": null,
            "object_fit": null,
            "object_position": null,
            "order": null,
            "overflow": null,
            "overflow_x": null,
            "overflow_y": null,
            "padding": null,
            "right": null,
            "top": null,
            "visibility": null,
            "width": null
          }
        },
        "3dde80ffb8db4b6a9cd71d5102632834": {
          "model_module": "@jupyter-widgets/controls",
          "model_name": "ProgressStyleModel",
          "model_module_version": "1.5.0",
          "state": {
            "_model_module": "@jupyter-widgets/controls",
            "_model_module_version": "1.5.0",
            "_model_name": "ProgressStyleModel",
            "_view_count": null,
            "_view_module": "@jupyter-widgets/base",
            "_view_module_version": "1.2.0",
            "_view_name": "StyleView",
            "bar_color": null,
            "description_width": ""
          }
        },
        "1eacd67b90a64465877d5865190cf350": {
          "model_module": "@jupyter-widgets/base",
          "model_name": "LayoutModel",
          "model_module_version": "1.2.0",
          "state": {
            "_model_module": "@jupyter-widgets/base",
            "_model_module_version": "1.2.0",
            "_model_name": "LayoutModel",
            "_view_count": null,
            "_view_module": "@jupyter-widgets/base",
            "_view_module_version": "1.2.0",
            "_view_name": "LayoutView",
            "align_content": null,
            "align_items": null,
            "align_self": null,
            "border": null,
            "bottom": null,
            "display": null,
            "flex": null,
            "flex_flow": null,
            "grid_area": null,
            "grid_auto_columns": null,
            "grid_auto_flow": null,
            "grid_auto_rows": null,
            "grid_column": null,
            "grid_gap": null,
            "grid_row": null,
            "grid_template_areas": null,
            "grid_template_columns": null,
            "grid_template_rows": null,
            "height": null,
            "justify_content": null,
            "justify_items": null,
            "left": null,
            "margin": null,
            "max_height": null,
            "max_width": null,
            "min_height": null,
            "min_width": null,
            "object_fit": null,
            "object_position": null,
            "order": null,
            "overflow": null,
            "overflow_x": null,
            "overflow_y": null,
            "padding": null,
            "right": null,
            "top": null,
            "visibility": null,
            "width": null
          }
        },
        "66b4695de90047edbcdbc86ec144b8a5": {
          "model_module": "@jupyter-widgets/controls",
          "model_name": "DescriptionStyleModel",
          "model_module_version": "1.5.0",
          "state": {
            "_model_module": "@jupyter-widgets/controls",
            "_model_module_version": "1.5.0",
            "_model_name": "DescriptionStyleModel",
            "_view_count": null,
            "_view_module": "@jupyter-widgets/base",
            "_view_module_version": "1.2.0",
            "_view_name": "StyleView",
            "description_width": ""
          }
        },
        "2a9cabf5dbc346ea859038d31d0df21d": {
          "model_module": "@jupyter-widgets/controls",
          "model_name": "HBoxModel",
          "model_module_version": "1.5.0",
          "state": {
            "_dom_classes": [],
            "_model_module": "@jupyter-widgets/controls",
            "_model_module_version": "1.5.0",
            "_model_name": "HBoxModel",
            "_view_count": null,
            "_view_module": "@jupyter-widgets/controls",
            "_view_module_version": "1.5.0",
            "_view_name": "HBoxView",
            "box_style": "",
            "children": [
              "IPY_MODEL_836bf297063947f2b567ea780178c49a",
              "IPY_MODEL_08700f7f62924080bcafc5f2102d4199",
              "IPY_MODEL_78709a762a104dd5b707100230bb6ddd"
            ],
            "layout": "IPY_MODEL_894ad334bf64413e9dfed4388e5c7ade"
          }
        },
        "836bf297063947f2b567ea780178c49a": {
          "model_module": "@jupyter-widgets/controls",
          "model_name": "HTMLModel",
          "model_module_version": "1.5.0",
          "state": {
            "_dom_classes": [],
            "_model_module": "@jupyter-widgets/controls",
            "_model_module_version": "1.5.0",
            "_model_name": "HTMLModel",
            "_view_count": null,
            "_view_module": "@jupyter-widgets/controls",
            "_view_module_version": "1.5.0",
            "_view_name": "HTMLView",
            "description": "",
            "description_tooltip": null,
            "layout": "IPY_MODEL_8474b696faa347f78b1bc03b2ab2fcfb",
            "placeholder": "​",
            "style": "IPY_MODEL_e2cd1281b67048e8bba55a68cc9b19c5",
            "value": "model.safetensors: 100%"
          }
        },
        "08700f7f62924080bcafc5f2102d4199": {
          "model_module": "@jupyter-widgets/controls",
          "model_name": "FloatProgressModel",
          "model_module_version": "1.5.0",
          "state": {
            "_dom_classes": [],
            "_model_module": "@jupyter-widgets/controls",
            "_model_module_version": "1.5.0",
            "_model_name": "FloatProgressModel",
            "_view_count": null,
            "_view_module": "@jupyter-widgets/controls",
            "_view_module_version": "1.5.0",
            "_view_name": "ProgressView",
            "bar_style": "success",
            "description": "",
            "description_tooltip": null,
            "layout": "IPY_MODEL_57a7ccea1d464137bcf5ebe041260730",
            "max": 714290682,
            "min": 0,
            "orientation": "horizontal",
            "style": "IPY_MODEL_77f13fde1ea24061b1eca8ab434c518e",
            "value": 714290682
          }
        },
        "78709a762a104dd5b707100230bb6ddd": {
          "model_module": "@jupyter-widgets/controls",
          "model_name": "HTMLModel",
          "model_module_version": "1.5.0",
          "state": {
            "_dom_classes": [],
            "_model_module": "@jupyter-widgets/controls",
            "_model_module_version": "1.5.0",
            "_model_name": "HTMLModel",
            "_view_count": null,
            "_view_module": "@jupyter-widgets/controls",
            "_view_module_version": "1.5.0",
            "_view_name": "HTMLView",
            "description": "",
            "description_tooltip": null,
            "layout": "IPY_MODEL_56aab26505b841928078ea540f536983",
            "placeholder": "​",
            "style": "IPY_MODEL_3d55fe6f5b8f419ea75aac0222c33218",
            "value": " 714M/714M [00:02&lt;00:00, 287MB/s]"
          }
        },
        "894ad334bf64413e9dfed4388e5c7ade": {
          "model_module": "@jupyter-widgets/base",
          "model_name": "LayoutModel",
          "model_module_version": "1.2.0",
          "state": {
            "_model_module": "@jupyter-widgets/base",
            "_model_module_version": "1.2.0",
            "_model_name": "LayoutModel",
            "_view_count": null,
            "_view_module": "@jupyter-widgets/base",
            "_view_module_version": "1.2.0",
            "_view_name": "LayoutView",
            "align_content": null,
            "align_items": null,
            "align_self": null,
            "border": null,
            "bottom": null,
            "display": null,
            "flex": null,
            "flex_flow": null,
            "grid_area": null,
            "grid_auto_columns": null,
            "grid_auto_flow": null,
            "grid_auto_rows": null,
            "grid_column": null,
            "grid_gap": null,
            "grid_row": null,
            "grid_template_areas": null,
            "grid_template_columns": null,
            "grid_template_rows": null,
            "height": null,
            "justify_content": null,
            "justify_items": null,
            "left": null,
            "margin": null,
            "max_height": null,
            "max_width": null,
            "min_height": null,
            "min_width": null,
            "object_fit": null,
            "object_position": null,
            "order": null,
            "overflow": null,
            "overflow_x": null,
            "overflow_y": null,
            "padding": null,
            "right": null,
            "top": null,
            "visibility": null,
            "width": null
          }
        },
        "8474b696faa347f78b1bc03b2ab2fcfb": {
          "model_module": "@jupyter-widgets/base",
          "model_name": "LayoutModel",
          "model_module_version": "1.2.0",
          "state": {
            "_model_module": "@jupyter-widgets/base",
            "_model_module_version": "1.2.0",
            "_model_name": "LayoutModel",
            "_view_count": null,
            "_view_module": "@jupyter-widgets/base",
            "_view_module_version": "1.2.0",
            "_view_name": "LayoutView",
            "align_content": null,
            "align_items": null,
            "align_self": null,
            "border": null,
            "bottom": null,
            "display": null,
            "flex": null,
            "flex_flow": null,
            "grid_area": null,
            "grid_auto_columns": null,
            "grid_auto_flow": null,
            "grid_auto_rows": null,
            "grid_column": null,
            "grid_gap": null,
            "grid_row": null,
            "grid_template_areas": null,
            "grid_template_columns": null,
            "grid_template_rows": null,
            "height": null,
            "justify_content": null,
            "justify_items": null,
            "left": null,
            "margin": null,
            "max_height": null,
            "max_width": null,
            "min_height": null,
            "min_width": null,
            "object_fit": null,
            "object_position": null,
            "order": null,
            "overflow": null,
            "overflow_x": null,
            "overflow_y": null,
            "padding": null,
            "right": null,
            "top": null,
            "visibility": null,
            "width": null
          }
        },
        "e2cd1281b67048e8bba55a68cc9b19c5": {
          "model_module": "@jupyter-widgets/controls",
          "model_name": "DescriptionStyleModel",
          "model_module_version": "1.5.0",
          "state": {
            "_model_module": "@jupyter-widgets/controls",
            "_model_module_version": "1.5.0",
            "_model_name": "DescriptionStyleModel",
            "_view_count": null,
            "_view_module": "@jupyter-widgets/base",
            "_view_module_version": "1.2.0",
            "_view_name": "StyleView",
            "description_width": ""
          }
        },
        "57a7ccea1d464137bcf5ebe041260730": {
          "model_module": "@jupyter-widgets/base",
          "model_name": "LayoutModel",
          "model_module_version": "1.2.0",
          "state": {
            "_model_module": "@jupyter-widgets/base",
            "_model_module_version": "1.2.0",
            "_model_name": "LayoutModel",
            "_view_count": null,
            "_view_module": "@jupyter-widgets/base",
            "_view_module_version": "1.2.0",
            "_view_name": "LayoutView",
            "align_content": null,
            "align_items": null,
            "align_self": null,
            "border": null,
            "bottom": null,
            "display": null,
            "flex": null,
            "flex_flow": null,
            "grid_area": null,
            "grid_auto_columns": null,
            "grid_auto_flow": null,
            "grid_auto_rows": null,
            "grid_column": null,
            "grid_gap": null,
            "grid_row": null,
            "grid_template_areas": null,
            "grid_template_columns": null,
            "grid_template_rows": null,
            "height": null,
            "justify_content": null,
            "justify_items": null,
            "left": null,
            "margin": null,
            "max_height": null,
            "max_width": null,
            "min_height": null,
            "min_width": null,
            "object_fit": null,
            "object_position": null,
            "order": null,
            "overflow": null,
            "overflow_x": null,
            "overflow_y": null,
            "padding": null,
            "right": null,
            "top": null,
            "visibility": null,
            "width": null
          }
        },
        "77f13fde1ea24061b1eca8ab434c518e": {
          "model_module": "@jupyter-widgets/controls",
          "model_name": "ProgressStyleModel",
          "model_module_version": "1.5.0",
          "state": {
            "_model_module": "@jupyter-widgets/controls",
            "_model_module_version": "1.5.0",
            "_model_name": "ProgressStyleModel",
            "_view_count": null,
            "_view_module": "@jupyter-widgets/base",
            "_view_module_version": "1.2.0",
            "_view_name": "StyleView",
            "bar_color": null,
            "description_width": ""
          }
        },
        "56aab26505b841928078ea540f536983": {
          "model_module": "@jupyter-widgets/base",
          "model_name": "LayoutModel",
          "model_module_version": "1.2.0",
          "state": {
            "_model_module": "@jupyter-widgets/base",
            "_model_module_version": "1.2.0",
            "_model_name": "LayoutModel",
            "_view_count": null,
            "_view_module": "@jupyter-widgets/base",
            "_view_module_version": "1.2.0",
            "_view_name": "LayoutView",
            "align_content": null,
            "align_items": null,
            "align_self": null,
            "border": null,
            "bottom": null,
            "display": null,
            "flex": null,
            "flex_flow": null,
            "grid_area": null,
            "grid_auto_columns": null,
            "grid_auto_flow": null,
            "grid_auto_rows": null,
            "grid_column": null,
            "grid_gap": null,
            "grid_row": null,
            "grid_template_areas": null,
            "grid_template_columns": null,
            "grid_template_rows": null,
            "height": null,
            "justify_content": null,
            "justify_items": null,
            "left": null,
            "margin": null,
            "max_height": null,
            "max_width": null,
            "min_height": null,
            "min_width": null,
            "object_fit": null,
            "object_position": null,
            "order": null,
            "overflow": null,
            "overflow_x": null,
            "overflow_y": null,
            "padding": null,
            "right": null,
            "top": null,
            "visibility": null,
            "width": null
          }
        },
        "3d55fe6f5b8f419ea75aac0222c33218": {
          "model_module": "@jupyter-widgets/controls",
          "model_name": "DescriptionStyleModel",
          "model_module_version": "1.5.0",
          "state": {
            "_model_module": "@jupyter-widgets/controls",
            "_model_module_version": "1.5.0",
            "_model_name": "DescriptionStyleModel",
            "_view_count": null,
            "_view_module": "@jupyter-widgets/base",
            "_view_module_version": "1.2.0",
            "_view_name": "StyleView",
            "description_width": ""
          }
        }
      }
    },
    "kaggle": {
      "accelerator": "gpu",
      "dataSources": [
        {
          "sourceId": 9203746,
          "sourceType": "datasetVersion",
          "datasetId": 5564757
        }
      ],
      "dockerImageVersionId": 30747,
      "isInternetEnabled": true,
      "language": "python",
      "sourceType": "notebook",
      "isGpuEnabled": true
    }
  },
  "nbformat_minor": 5,
  "nbformat": 4,
  "cells": [
    {
      "id": "444d380e-1565-4cbb-ad8e-736efa940e78",
      "cell_type": "markdown",
      "source": [
        "# Загрузка и обработка данных"
      ],
      "metadata": {
        "id": "444d380e-1565-4cbb-ad8e-736efa940e78"
      }
    },
    {
      "id": "bf844504-80e1-4af5-a082-b05a221b3a66",
      "cell_type": "code",
      "source": [
        "import pandas as pd\n",
        "import numpy as np"
      ],
      "metadata": {
        "id": "bf844504-80e1-4af5-a082-b05a221b3a66",
        "ExecuteTime": {
          "end_time": "2024-08-19T11:14:19.898964Z",
          "start_time": "2024-08-19T11:14:15.642966Z"
        },
        "execution": {
          "iopub.status.busy": "2024-08-23T12:03:05.546876Z",
          "iopub.execute_input": "2024-08-23T12:03:05.547783Z",
          "iopub.status.idle": "2024-08-23T12:03:05.919105Z",
          "shell.execute_reply.started": "2024-08-23T12:03:05.547748Z",
          "shell.execute_reply": "2024-08-23T12:03:05.918338Z"
        },
        "trusted": true
      },
      "outputs": [],
      "execution_count": null
    },
    {
      "id": "5968e2fb-c8c0-4b2f-b133-039b3a6a1f86",
      "cell_type": "code",
      "source": [
        "def parse_tskv_line(line):\n",
        "    # Разделяем строку по табуляции и создаём словарь из пар ключ-значение.\n",
        "    return dict(item.split('=', 1) for item in line.strip().split('\\t'))\n",
        "\n",
        "# Чтение файла строка за строкой и преобразование каждой строки через parse_tskv_line\n",
        "with open('/kaggle/input/yandex-data/geo-reviews-dataset-2023.tskv', 'r', encoding='utf-8') as file:\n",
        "    data = [parse_tskv_line(line) for line in file]\n",
        "\n",
        "# Создание DataFrame из списка словарей\n",
        "df = pd.DataFrame(data)\n",
        "\n",
        "# Вывод первых нескольких строк DataFrame\n",
        "df.head()"
      ],
      "metadata": {
        "colab": {
          "base_uri": "https://localhost:8080/",
          "height": 206
        },
        "id": "5968e2fb-c8c0-4b2f-b133-039b3a6a1f86",
        "outputId": "113ad621-53e1-496f-f071-aaa2fe747a14",
        "ExecuteTime": {
          "end_time": "2024-08-19T11:27:06.818894Z",
          "start_time": "2024-08-19T11:27:01.846896Z"
        },
        "execution": {
          "iopub.status.busy": "2024-08-23T12:03:05.920636Z",
          "iopub.execute_input": "2024-08-23T12:03:05.921079Z",
          "iopub.status.idle": "2024-08-23T12:03:19.805330Z",
          "shell.execute_reply.started": "2024-08-23T12:03:05.921046Z",
          "shell.execute_reply": "2024-08-23T12:03:19.804420Z"
        },
        "trusted": true
      },
      "outputs": [
        {
          "execution_count": 2,
          "output_type": "execute_result",
          "data": {
            "text/plain": "                                             address             name_ru  \\\n0  Екатеринбург, ул. Московская / ул. Волгоградск...  Московский квартал   \n1  Московская область, Электросталь, проспект Лен...   Продукты Ермолино   \n2  Краснодар, Прикубанский внутригородской округ,...             LimeFit   \n3   Санкт-Петербург, проспект Энгельса, 111, корп. 1        Snow-Express   \n4                  Тверь, Волоколамский проспект, 39  Студия Beauty Brow   \n\n  rating                                            rubrics  \\\n0     3.                                     Жилой комплекс   \n1     5.  Магазин продуктов;Продукты глубокой заморозки;...   \n2     1.                                        Фитнес-клуб   \n3     4.        Пункт проката;Прокат велосипедов;Сапсёрфинг   \n4     5.  Салон красоты;Визажисты, стилисты;Салон бровей...   \n\n                                                text  \n0  Московский квартал 2.\\nШумно : летом по ночам ...  \n1  Замечательная сеть магазинов в общем, хороший ...  \n2  Не знаю смутят ли кого-то данные правила, но я...  \n3  Хорошие условия аренды. \\nДружелюбный персонал...  \n4  Топ мастер Ангелина топ во всех смыслах ) Немн...  ",
            "text/html": "<div>\n<style scoped>\n    .dataframe tbody tr th:only-of-type {\n        vertical-align: middle;\n    }\n\n    .dataframe tbody tr th {\n        vertical-align: top;\n    }\n\n    .dataframe thead th {\n        text-align: right;\n    }\n</style>\n<table border=\"1\" class=\"dataframe\">\n  <thead>\n    <tr style=\"text-align: right;\">\n      <th></th>\n      <th>address</th>\n      <th>name_ru</th>\n      <th>rating</th>\n      <th>rubrics</th>\n      <th>text</th>\n    </tr>\n  </thead>\n  <tbody>\n    <tr>\n      <th>0</th>\n      <td>Екатеринбург, ул. Московская / ул. Волгоградск...</td>\n      <td>Московский квартал</td>\n      <td>3.</td>\n      <td>Жилой комплекс</td>\n      <td>Московский квартал 2.\\nШумно : летом по ночам ...</td>\n    </tr>\n    <tr>\n      <th>1</th>\n      <td>Московская область, Электросталь, проспект Лен...</td>\n      <td>Продукты Ермолино</td>\n      <td>5.</td>\n      <td>Магазин продуктов;Продукты глубокой заморозки;...</td>\n      <td>Замечательная сеть магазинов в общем, хороший ...</td>\n    </tr>\n    <tr>\n      <th>2</th>\n      <td>Краснодар, Прикубанский внутригородской округ,...</td>\n      <td>LimeFit</td>\n      <td>1.</td>\n      <td>Фитнес-клуб</td>\n      <td>Не знаю смутят ли кого-то данные правила, но я...</td>\n    </tr>\n    <tr>\n      <th>3</th>\n      <td>Санкт-Петербург, проспект Энгельса, 111, корп. 1</td>\n      <td>Snow-Express</td>\n      <td>4.</td>\n      <td>Пункт проката;Прокат велосипедов;Сапсёрфинг</td>\n      <td>Хорошие условия аренды. \\nДружелюбный персонал...</td>\n    </tr>\n    <tr>\n      <th>4</th>\n      <td>Тверь, Волоколамский проспект, 39</td>\n      <td>Студия Beauty Brow</td>\n      <td>5.</td>\n      <td>Салон красоты;Визажисты, стилисты;Салон бровей...</td>\n      <td>Топ мастер Ангелина топ во всех смыслах ) Немн...</td>\n    </tr>\n  </tbody>\n</table>\n</div>"
          },
          "metadata": {}
        }
      ],
      "execution_count": null
    },
    {
      "id": "444fffef-9445-4a6c-b087-d54205ccdee8",
      "cell_type": "code",
      "source": [
        "# Убираем пустые значения оценок\n",
        "df = df[df['rating'] != '0.']\n",
        "\n",
        "# Делаем классы от 0 до 4 для удобства обучения\n",
        "df[\"label\"] = df.rating.apply(lambda x: int(x[0]) - 1)\n",
        "\n",
        "# Поменяли имя колонки с 'rating' на 'label'\n",
        "df = df.drop(columns=['rating'])"
      ],
      "metadata": {
        "id": "444fffef-9445-4a6c-b087-d54205ccdee8",
        "ExecuteTime": {
          "end_time": "2024-08-19T11:27:25.629782Z",
          "start_time": "2024-08-19T11:27:24.929780Z"
        },
        "execution": {
          "iopub.status.busy": "2024-08-23T12:04:35.579908Z",
          "iopub.execute_input": "2024-08-23T12:04:35.580297Z",
          "iopub.status.idle": "2024-08-23T12:04:36.255359Z",
          "shell.execute_reply.started": "2024-08-23T12:04:35.580265Z",
          "shell.execute_reply": "2024-08-23T12:04:36.254564Z"
        },
        "trusted": true
      },
      "outputs": [],
      "execution_count": null
    },
    {
      "id": "9d0f8cdf-9941-4096-b59a-37175eaf51bf",
      "cell_type": "code",
      "source": [
        "df.info()"
      ],
      "metadata": {
        "colab": {
          "base_uri": "https://localhost:8080/"
        },
        "id": "9d0f8cdf-9941-4096-b59a-37175eaf51bf",
        "outputId": "727f3b94-3120-4639-f49e-fdc8b697d9e5",
        "ExecuteTime": {
          "end_time": "2024-08-19T11:27:28.800779Z",
          "start_time": "2024-08-19T11:27:28.388780Z"
        },
        "execution": {
          "iopub.status.busy": "2024-08-23T12:05:17.167730Z",
          "iopub.execute_input": "2024-08-23T12:05:17.168090Z",
          "iopub.status.idle": "2024-08-23T12:05:17.433032Z",
          "shell.execute_reply.started": "2024-08-23T12:05:17.168062Z",
          "shell.execute_reply": "2024-08-23T12:05:17.432145Z"
        },
        "trusted": true
      },
      "outputs": [
        {
          "name": "stdout",
          "text": "<class 'pandas.core.frame.DataFrame'>\nIndex: 499800 entries, 0 to 499999\nData columns (total 5 columns):\n #   Column   Non-Null Count   Dtype \n---  ------   --------------   ----- \n 0   address  499800 non-null  object\n 1   name_ru  498830 non-null  object\n 2   rubrics  499800 non-null  object\n 3   text     499800 non-null  object\n 4   label    499800 non-null  int64 \ndtypes: int64(1), object(4)\nmemory usage: 22.9+ MB\n",
          "output_type": "stream"
        }
      ],
      "execution_count": null
    },
    {
      "id": "9c370e13-b77b-47b6-8e27-9ef6cb23f39c",
      "cell_type": "code",
      "source": [
        "df['text'] = df['text'].apply(lambda x: x.replace('\\\\n', ''))\n",
        "df.head()"
      ],
      "metadata": {
        "ExecuteTime": {
          "end_time": "2024-08-19T11:28:38.861398Z",
          "start_time": "2024-08-19T11:28:38.259390Z"
        },
        "execution": {
          "iopub.status.busy": "2024-08-23T12:05:21.666053Z",
          "iopub.execute_input": "2024-08-23T12:05:21.666478Z",
          "iopub.status.idle": "2024-08-23T12:05:22.099717Z",
          "shell.execute_reply.started": "2024-08-23T12:05:21.666446Z",
          "shell.execute_reply": "2024-08-23T12:05:22.098723Z"
        },
        "trusted": true,
        "id": "9c370e13-b77b-47b6-8e27-9ef6cb23f39c",
        "outputId": "f48ede3a-1f48-444c-b2ad-5035dc4cc66f"
      },
      "outputs": [
        {
          "execution_count": 5,
          "output_type": "execute_result",
          "data": {
            "text/plain": "                                             address             name_ru  \\\n0  Екатеринбург, ул. Московская / ул. Волгоградск...  Московский квартал   \n1  Московская область, Электросталь, проспект Лен...   Продукты Ермолино   \n2  Краснодар, Прикубанский внутригородской округ,...             LimeFit   \n3   Санкт-Петербург, проспект Энгельса, 111, корп. 1        Snow-Express   \n4                  Тверь, Волоколамский проспект, 39  Студия Beauty Brow   \n\n                                             rubrics  \\\n0                                     Жилой комплекс   \n1  Магазин продуктов;Продукты глубокой заморозки;...   \n2                                        Фитнес-клуб   \n3        Пункт проката;Прокат велосипедов;Сапсёрфинг   \n4  Салон красоты;Визажисты, стилисты;Салон бровей...   \n\n                                                text  label  \n0  Московский квартал 2.Шумно : летом по ночам ди...      2  \n1  Замечательная сеть магазинов в общем, хороший ...      4  \n2  Не знаю смутят ли кого-то данные правила, но я...      0  \n3  Хорошие условия аренды. Дружелюбный персонал.Н...      3  \n4  Топ мастер Ангелина топ во всех смыслах ) Немн...      4  ",
            "text/html": "<div>\n<style scoped>\n    .dataframe tbody tr th:only-of-type {\n        vertical-align: middle;\n    }\n\n    .dataframe tbody tr th {\n        vertical-align: top;\n    }\n\n    .dataframe thead th {\n        text-align: right;\n    }\n</style>\n<table border=\"1\" class=\"dataframe\">\n  <thead>\n    <tr style=\"text-align: right;\">\n      <th></th>\n      <th>address</th>\n      <th>name_ru</th>\n      <th>rubrics</th>\n      <th>text</th>\n      <th>label</th>\n    </tr>\n  </thead>\n  <tbody>\n    <tr>\n      <th>0</th>\n      <td>Екатеринбург, ул. Московская / ул. Волгоградск...</td>\n      <td>Московский квартал</td>\n      <td>Жилой комплекс</td>\n      <td>Московский квартал 2.Шумно : летом по ночам ди...</td>\n      <td>2</td>\n    </tr>\n    <tr>\n      <th>1</th>\n      <td>Московская область, Электросталь, проспект Лен...</td>\n      <td>Продукты Ермолино</td>\n      <td>Магазин продуктов;Продукты глубокой заморозки;...</td>\n      <td>Замечательная сеть магазинов в общем, хороший ...</td>\n      <td>4</td>\n    </tr>\n    <tr>\n      <th>2</th>\n      <td>Краснодар, Прикубанский внутригородской округ,...</td>\n      <td>LimeFit</td>\n      <td>Фитнес-клуб</td>\n      <td>Не знаю смутят ли кого-то данные правила, но я...</td>\n      <td>0</td>\n    </tr>\n    <tr>\n      <th>3</th>\n      <td>Санкт-Петербург, проспект Энгельса, 111, корп. 1</td>\n      <td>Snow-Express</td>\n      <td>Пункт проката;Прокат велосипедов;Сапсёрфинг</td>\n      <td>Хорошие условия аренды. Дружелюбный персонал.Н...</td>\n      <td>3</td>\n    </tr>\n    <tr>\n      <th>4</th>\n      <td>Тверь, Волоколамский проспект, 39</td>\n      <td>Студия Beauty Brow</td>\n      <td>Салон красоты;Визажисты, стилисты;Салон бровей...</td>\n      <td>Топ мастер Ангелина топ во всех смыслах ) Немн...</td>\n      <td>4</td>\n    </tr>\n  </tbody>\n</table>\n</div>"
          },
          "metadata": {}
        }
      ],
      "execution_count": null
    },
    {
      "id": "0c89ef6f-4734-45fe-98bd-11e08954301e",
      "cell_type": "code",
      "source": [
        "!pip install datasets"
      ],
      "metadata": {
        "execution": {
          "iopub.status.busy": "2024-08-23T12:05:28.953017Z",
          "iopub.execute_input": "2024-08-23T12:05:28.953703Z",
          "iopub.status.idle": "2024-08-23T12:05:42.164264Z",
          "shell.execute_reply.started": "2024-08-23T12:05:28.953670Z",
          "shell.execute_reply": "2024-08-23T12:05:42.162988Z"
        },
        "trusted": true,
        "id": "0c89ef6f-4734-45fe-98bd-11e08954301e"
      },
      "outputs": [],
      "execution_count": null
    },
    {
      "id": "fd422b02-5a3b-441c-aa07-161cd2f000a9",
      "cell_type": "code",
      "source": [
        "from transformers import AutoTokenizer\n",
        "\n",
        "tokenizer = AutoTokenizer.from_pretrained(\"cointegrated/rubert-tiny\")"
      ],
      "metadata": {
        "execution": {
          "iopub.status.busy": "2024-08-23T12:07:11.780563Z",
          "iopub.execute_input": "2024-08-23T12:07:11.781218Z",
          "iopub.status.idle": "2024-08-23T12:07:11.904700Z",
          "shell.execute_reply.started": "2024-08-23T12:07:11.781188Z",
          "shell.execute_reply": "2024-08-23T12:07:11.903951Z"
        },
        "trusted": true,
        "id": "fd422b02-5a3b-441c-aa07-161cd2f000a9"
      },
      "outputs": [],
      "execution_count": null
    },
    {
      "id": "76cf5e72-0dcf-49fd-a59b-53331c2ed1f7",
      "cell_type": "code",
      "source": [
        "#Выполняем балансировку классов\n",
        "import pandas as pd\n",
        "import random\n",
        "\n",
        "counts = df['label'].value_counts()\n",
        "min_count = counts.min()\n",
        "\n",
        "df_balanced = pd.DataFrame()\n",
        "\n",
        "for label in counts.index:\n",
        "    group = df[df['label'] == label]\n",
        "\n",
        "    if len(group) > min_count:\n",
        "        group = group.sample(n=min_count)\n",
        "\n",
        "    df_balanced = pd.concat([df_balanced, group])\n",
        "\n"
      ],
      "metadata": {
        "id": "76cf5e72-0dcf-49fd-a59b-53331c2ed1f7",
        "ExecuteTime": {
          "end_time": "2024-08-19T11:28:52.666389Z",
          "start_time": "2024-08-19T11:28:52.280391Z"
        },
        "execution": {
          "iopub.status.busy": "2024-08-23T12:06:37.705510Z",
          "iopub.execute_input": "2024-08-23T12:06:37.707413Z",
          "iopub.status.idle": "2024-08-23T12:06:38.149267Z",
          "shell.execute_reply.started": "2024-08-23T12:06:37.707379Z",
          "shell.execute_reply": "2024-08-23T12:06:38.148256Z"
        },
        "trusted": true
      },
      "outputs": [],
      "execution_count": null
    },
    {
      "id": "fd0cb086-f61d-4b34-9854-e56f62e032a8",
      "cell_type": "code",
      "source": [
        "from datasets import load_dataset, Dataset, DatasetDict"
      ],
      "metadata": {
        "id": "fd0cb086-f61d-4b34-9854-e56f62e032a8",
        "ExecuteTime": {
          "end_time": "2024-08-19T11:29:08.754389Z",
          "start_time": "2024-08-19T11:28:57.415392Z"
        },
        "execution": {
          "iopub.status.busy": "2024-08-23T12:06:41.034797Z",
          "iopub.execute_input": "2024-08-23T12:06:41.035195Z",
          "iopub.status.idle": "2024-08-23T12:06:41.746704Z",
          "shell.execute_reply.started": "2024-08-23T12:06:41.035162Z",
          "shell.execute_reply": "2024-08-23T12:06:41.745835Z"
        },
        "trusted": true
      },
      "outputs": [],
      "execution_count": null
    },
    {
      "id": "161a8256-788e-4241-88af-dc6024925260",
      "cell_type": "code",
      "source": [
        "from sklearn.model_selection import train_test_split\n",
        "\n",
        "train_df, val_df = train_test_split(df_balanced[['text', 'label']], test_size=0.3, random_state=42)"
      ],
      "metadata": {
        "id": "161a8256-788e-4241-88af-dc6024925260",
        "ExecuteTime": {
          "end_time": "2024-08-19T11:29:33.241819Z",
          "start_time": "2024-08-19T11:29:10.777398Z"
        },
        "execution": {
          "iopub.status.busy": "2024-08-23T12:06:42.628077Z",
          "iopub.execute_input": "2024-08-23T12:06:42.629306Z",
          "iopub.status.idle": "2024-08-23T12:06:43.240139Z",
          "shell.execute_reply.started": "2024-08-23T12:06:42.629269Z",
          "shell.execute_reply": "2024-08-23T12:06:43.239154Z"
        },
        "trusted": true
      },
      "outputs": [],
      "execution_count": null
    },
    {
      "id": "a5fd90e3-de26-40b8-b1d5-11c0eb41e1e0",
      "cell_type": "code",
      "source": [
        "with open('/kaggle/input/yandex-data/test.tskv', 'r', encoding='utf-8') as file:\n",
        "    data = [parse_tskv_line(line) for line in file]\n",
        "\n",
        "df_test = pd.DataFrame(data)\n",
        "df_test.head()"
      ],
      "metadata": {
        "colab": {
          "base_uri": "https://localhost:8080/",
          "height": 206
        },
        "id": "a5fd90e3-de26-40b8-b1d5-11c0eb41e1e0",
        "outputId": "00204929-72ac-41f2-d451-ad5710d75214",
        "ExecuteTime": {
          "end_time": "2024-08-19T11:29:46.943822Z",
          "start_time": "2024-08-19T11:29:46.614824Z"
        },
        "execution": {
          "iopub.status.busy": "2024-08-23T12:06:44.035794Z",
          "iopub.execute_input": "2024-08-23T12:06:44.036927Z",
          "iopub.status.idle": "2024-08-23T12:06:44.656913Z",
          "shell.execute_reply.started": "2024-08-23T12:06:44.036882Z",
          "shell.execute_reply": "2024-08-23T12:06:44.656017Z"
        },
        "trusted": true
      },
      "outputs": [
        {
          "execution_count": 11,
          "output_type": "execute_result",
          "data": {
            "text/plain": "                                             address       name_ru  \\\n0  Московская обл., Электроугли, ул. Школьная, вб...      Школьная   \n1                   Москва, Ленинский проспект, 34/1      Банк ВТБ   \n2                Москва, улица Плеханова, 17, стр. 6  Перово Плаза   \n3               Москва, Каширское шоссе, 57, корп. 4     Пятёрочка   \n4              Москва, Головинское шоссе, 5, корп. 1         О'кей   \n\n                               rubrics  \\\n0                       Жилой комплекс   \n1                                 Банк   \n2                            Гостиница   \n3                          Супермаркет   \n4  Продуктовый гипермаркет;Гипермаркет   \n\n                                                text  \n0  Как то он выгледит по другому и не так красиво...  \n1  Не решили вопрос \\nВ приложении втб прислали с...  \n2  Ужасное место,при заезде не могли никак засели...  \n3                 Всегда нереально медленные кассиры  \n4  Самое ужасное мясо на развес. Всегда продают т...  ",
            "text/html": "<div>\n<style scoped>\n    .dataframe tbody tr th:only-of-type {\n        vertical-align: middle;\n    }\n\n    .dataframe tbody tr th {\n        vertical-align: top;\n    }\n\n    .dataframe thead th {\n        text-align: right;\n    }\n</style>\n<table border=\"1\" class=\"dataframe\">\n  <thead>\n    <tr style=\"text-align: right;\">\n      <th></th>\n      <th>address</th>\n      <th>name_ru</th>\n      <th>rubrics</th>\n      <th>text</th>\n    </tr>\n  </thead>\n  <tbody>\n    <tr>\n      <th>0</th>\n      <td>Московская обл., Электроугли, ул. Школьная, вб...</td>\n      <td>Школьная</td>\n      <td>Жилой комплекс</td>\n      <td>Как то он выгледит по другому и не так красиво...</td>\n    </tr>\n    <tr>\n      <th>1</th>\n      <td>Москва, Ленинский проспект, 34/1</td>\n      <td>Банк ВТБ</td>\n      <td>Банк</td>\n      <td>Не решили вопрос \\nВ приложении втб прислали с...</td>\n    </tr>\n    <tr>\n      <th>2</th>\n      <td>Москва, улица Плеханова, 17, стр. 6</td>\n      <td>Перово Плаза</td>\n      <td>Гостиница</td>\n      <td>Ужасное место,при заезде не могли никак засели...</td>\n    </tr>\n    <tr>\n      <th>3</th>\n      <td>Москва, Каширское шоссе, 57, корп. 4</td>\n      <td>Пятёрочка</td>\n      <td>Супермаркет</td>\n      <td>Всегда нереально медленные кассиры</td>\n    </tr>\n    <tr>\n      <th>4</th>\n      <td>Москва, Головинское шоссе, 5, корп. 1</td>\n      <td>О'кей</td>\n      <td>Продуктовый гипермаркет;Гипермаркет</td>\n      <td>Самое ужасное мясо на развес. Всегда продают т...</td>\n    </tr>\n  </tbody>\n</table>\n</div>"
          },
          "metadata": {}
        }
      ],
      "execution_count": null
    },
    {
      "id": "b92df717-ad4c-484d-984c-119cfa4af567",
      "cell_type": "code",
      "source": [
        "df_test['text'] = df_test['text'].apply(lambda x: x.replace('\\\\n', ''))"
      ],
      "metadata": {
        "ExecuteTime": {
          "end_time": "2024-08-19T11:30:12.095822Z",
          "start_time": "2024-08-19T11:30:12.065821Z"
        },
        "execution": {
          "iopub.status.busy": "2024-08-23T12:06:51.238150Z",
          "iopub.execute_input": "2024-08-23T12:06:51.238861Z",
          "iopub.status.idle": "2024-08-23T12:06:51.258843Z",
          "shell.execute_reply.started": "2024-08-23T12:06:51.238829Z",
          "shell.execute_reply": "2024-08-23T12:06:51.257811Z"
        },
        "trusted": true,
        "id": "b92df717-ad4c-484d-984c-119cfa4af567"
      },
      "outputs": [],
      "execution_count": null
    },
    {
      "id": "2bcf1c92-1326-4fdd-9626-5f5faf64f86e",
      "cell_type": "code",
      "source": [
        "train = Dataset.from_pandas(train_df)\n",
        "val = Dataset.from_pandas(val_df)\n",
        "test = Dataset.from_pandas(pd.DataFrame(df_test['text']))\n",
        "\n",
        "ds = DatasetDict()\n",
        "\n",
        "ds['train'] = train\n",
        "ds['validation'] = val\n",
        "ds['test'] = test"
      ],
      "metadata": {
        "id": "2bcf1c92-1326-4fdd-9626-5f5faf64f86e",
        "ExecuteTime": {
          "end_time": "2024-08-19T11:30:31.084819Z",
          "start_time": "2024-08-19T11:30:14.214823Z"
        },
        "execution": {
          "iopub.status.busy": "2024-08-23T12:06:52.106602Z",
          "iopub.execute_input": "2024-08-23T12:06:52.107292Z",
          "iopub.status.idle": "2024-08-23T12:06:52.706935Z",
          "shell.execute_reply.started": "2024-08-23T12:06:52.107260Z",
          "shell.execute_reply": "2024-08-23T12:06:52.706158Z"
        },
        "trusted": true
      },
      "outputs": [],
      "execution_count": null
    },
    {
      "id": "f21b347e-7112-4619-bfb2-868bf30ccbbe",
      "cell_type": "code",
      "source": [
        "def tokenize_function(examples):\n",
        "    return tokenizer(examples[\"text\"], padding=\"max_length\", truncation=True, max_length=512)\n",
        "\n",
        "\n",
        "tokenized_datasets = ds.map(tokenize_function, batched=True)"
      ],
      "metadata": {
        "id": "f21b347e-7112-4619-bfb2-868bf30ccbbe",
        "colab": {
          "base_uri": "https://localhost:8080/",
          "height": 345,
          "referenced_widgets": [
            "513161f6af3244d9a830f29406fa9378",
            "cd851476616e4d5d91fd0b6e95ce98a3",
            "3f083f840e564bc78f36f21219b8dbf4",
            "00db663572624167b7f2fb61e1a4847b",
            "4b9740abfb0b4953aac6a3db2326c398",
            "37f105f8ff824221906134cc9bbbe70e",
            "fdb6d98a440845af816b6a1eab3ad27b",
            "801d31ce97f54a9c97baf60998611105",
            "bf12131183ce4b359574bb42f87d81c4",
            "6dd8290e657147e39b92b021ed28fb01",
            "2fcacd0d01a349128c549762fcfea8bf",
            "28e8ef0a74e1458cbe9ad21ce30ac63d",
            "60d4e569faee464fbed9ae275990d9d1",
            "062d53b5b6b54ed08c99079a0e19aee9",
            "d780e13defea4708ad7c7a7c9efc50b6",
            "d4dda217bae843709e8bbe48567b9c51",
            "738f06061b184a57ab8d918e18af5a60",
            "946590b334c84a1aa5c53592651be3e2",
            "315d37dba9024508af7b884e17b3aa5c",
            "1fae5c9e14f14aa89f8b86f8393a11be",
            "7927601d9abf40e58f1e017caf45ebd7",
            "b2460e74f182413c8f8b5eb030320247",
            "319b2510bba54ea2917815c84629132e",
            "d7b869ca8587483281f312c71e169a36",
            "fdd63d924bd94b1a853c6fdec80825ac",
            "f9d63b0d20bd44eab0385f470f9f12ef",
            "862f4faf70564636b3869fdefe3d20ba",
            "80307870412c40aa9bda13fa6cf99f28",
            "ac5263c53f5c4c4694512e68f591ffa0",
            "f8215bab855a4c3599b6bd878ed23a5e",
            "1537f489f2af40258694dec4f427afb4",
            "8f57a01e9e2e40408a04ae760a9c93f6",
            "2eef782f7c014ba28111f2ca0f156828",
            "66be6469b0884bd4945404e2ec14e9d4",
            "244450087f4645638225beaf77a41501",
            "dc78ddf0cfa9428d8926ea59521adad4",
            "6bbce16e782b4f40883b936211ca9560",
            "df033de9b2094da0915c37782a0a96c8",
            "765c8a479a7e4477b17083b349cbba38",
            "6a65b381c1fb4f55a2815c5c54b7fd36",
            "30f8a81e983145799c30607d05330de9",
            "c286ed8f26e44bf5a111991f14889790",
            "a4b5bc51967a40858a65caf2f05ca475",
            "765b18e2320840e4a2cc0fdb76d7c305",
            "af8d244c34514b92bd224c252b00d1c7",
            "54d12c3ba677425a9f2da190a29651cc",
            "34243fc2155e4d399b7cbad2d893891e",
            "219ab0e8fef6499a8266a8b7ac338f6e",
            "cc09ff9eeaa94684afa169dc265716f4",
            "363daeccd248413a9d79469624906f97",
            "d0269a5cbef54393b2e53daa060d866d",
            "8f70926305ea4f388ad6627fa5908e74",
            "1b090c09f1884deaa0aa5cc6349ccf9f",
            "887713c44c93463483c302ad7d5c6072",
            "0d0e886776794bd79da21026e7a1b4e9",
            "00689968a7124cb590c9c99813aa76f1",
            "b206763ec8334e71ba836bf0fd1a9cd4",
            "7cbb5fadce5849f2aaf55467a44bddf3",
            "4da93f2106c144beabbbd8bba1728e6b",
            "7d2502521bc94273a5784bd2787f4862",
            "a4fea76477dd4cb2aee81dbddf2b8a46",
            "f7a93147205644a88930a25dbcdbfd90",
            "da17978db47144f7ba86dfc2aa7a9194",
            "bd262850922c46cc8ff3b22c3d2c7303",
            "9926854431d246ef96c3de1a99abf2f2",
            "3d58dafccc784fea9d7939a5878c977a",
            "ce9861cddcad42b5b75d6634a14815d4",
            "1cd73dd3b86d4c01aec270974fcff7ec",
            "81e6d5f78455436398d308a14f5a64f7",
            "15c7190742e240efb2a92f386b6df0b2",
            "e412d18c494c40a8bed198e02261fc34",
            "4f4bc0780e904a7d99f46e5880580ac6",
            "8e59a62375d34c279f790afafcba2e58",
            "f9d4f210d26741e2ae735ce9a5aeea36",
            "3dde80ffb8db4b6a9cd71d5102632834",
            "1eacd67b90a64465877d5865190cf350",
            "66b4695de90047edbcdbc86ec144b8a5",
            "c355f93aa0f4460ea0c7f50e44128f22",
            "44140d6b55214097b5b0ddb780948583",
            "cdb45642a09f48c0a67dc23dcebbd5da"
          ]
        },
        "outputId": "17f97e9b-b34e-44f5-e429-9d8ac8c72015",
        "ExecuteTime": {
          "end_time": "2024-08-19T11:31:09.895874Z",
          "start_time": "2024-08-19T11:30:34.640821Z"
        },
        "execution": {
          "iopub.status.busy": "2024-08-23T12:11:07.659114Z",
          "iopub.execute_input": "2024-08-23T12:11:07.659789Z",
          "iopub.status.idle": "2024-08-23T12:11:47.089352Z",
          "shell.execute_reply.started": "2024-08-23T12:11:07.659756Z",
          "shell.execute_reply": "2024-08-23T12:11:47.088468Z"
        },
        "trusted": true
      },
      "outputs": [
        {
          "output_type": "display_data",
          "data": {
            "text/plain": "Map:   0%|          | 0/42308 [00:00<?, ? examples/s]",
            "application/vnd.jupyter.widget-view+json": {
              "version_major": 2,
              "version_minor": 0,
              "model_id": "c355f93aa0f4460ea0c7f50e44128f22"
            }
          },
          "metadata": {}
        },
        {
          "output_type": "display_data",
          "data": {
            "text/plain": "Map:   0%|          | 0/18132 [00:00<?, ? examples/s]",
            "application/vnd.jupyter.widget-view+json": {
              "version_major": 2,
              "version_minor": 0,
              "model_id": "44140d6b55214097b5b0ddb780948583"
            }
          },
          "metadata": {}
        },
        {
          "output_type": "display_data",
          "data": {
            "text/plain": "Map:   0%|          | 0/20000 [00:00<?, ? examples/s]",
            "application/vnd.jupyter.widget-view+json": {
              "version_major": 2,
              "version_minor": 0,
              "model_id": "cdb45642a09f48c0a67dc23dcebbd5da"
            }
          },
          "metadata": {}
        }
      ],
      "execution_count": null
    },
    {
      "id": "17a8972e-3361-40d7-be98-55445f136811",
      "cell_type": "code",
      "source": [
        "tokenized_datasets"
      ],
      "metadata": {
        "execution": {
          "iopub.status.busy": "2024-08-23T12:12:00.855968Z",
          "iopub.execute_input": "2024-08-23T12:12:00.856362Z",
          "iopub.status.idle": "2024-08-23T12:12:00.862298Z",
          "shell.execute_reply.started": "2024-08-23T12:12:00.856329Z",
          "shell.execute_reply": "2024-08-23T12:12:00.861422Z"
        },
        "trusted": true,
        "id": "17a8972e-3361-40d7-be98-55445f136811"
      },
      "outputs": [],
      "execution_count": null
    },
    {
      "id": "27299658-b881-4aba-8898-22ba30d53a55",
      "cell_type": "markdown",
      "source": [
        "# **Подготавливаем модель для обучения**"
      ],
      "metadata": {
        "id": "27299658-b881-4aba-8898-22ba30d53a55"
      }
    },
    {
      "id": "44160f3a-6482-40d6-86b6-02c5b0ab27b6",
      "cell_type": "code",
      "source": [
        "from transformers import AutoModelForSequenceClassification\n",
        "\n",
        "model = AutoModelForSequenceClassification.from_pretrained(\"cointegrated/rubert-tiny\", num_labels=5)"
      ],
      "metadata": {
        "id": "44160f3a-6482-40d6-86b6-02c5b0ab27b6",
        "colab": {
          "base_uri": "https://localhost:8080/",
          "height": 104,
          "referenced_widgets": [
            "2a9cabf5dbc346ea859038d31d0df21d",
            "836bf297063947f2b567ea780178c49a",
            "08700f7f62924080bcafc5f2102d4199",
            "78709a762a104dd5b707100230bb6ddd",
            "894ad334bf64413e9dfed4388e5c7ade",
            "8474b696faa347f78b1bc03b2ab2fcfb",
            "e2cd1281b67048e8bba55a68cc9b19c5",
            "57a7ccea1d464137bcf5ebe041260730",
            "77f13fde1ea24061b1eca8ab434c518e",
            "56aab26505b841928078ea540f536983",
            "3d55fe6f5b8f419ea75aac0222c33218",
            "557f4b039dc74d37b30deb554691e284"
          ]
        },
        "outputId": "259aee25-1bd8-4f1f-bfa7-8a47d7bfce24",
        "ExecuteTime": {
          "end_time": "2024-08-19T11:24:27.380495Z",
          "start_time": "2024-08-19T11:14:46.788967Z"
        },
        "execution": {
          "iopub.status.busy": "2024-08-23T12:12:06.007452Z",
          "iopub.execute_input": "2024-08-23T12:12:06.007856Z",
          "iopub.status.idle": "2024-08-23T12:12:07.378260Z",
          "shell.execute_reply.started": "2024-08-23T12:12:06.007820Z",
          "shell.execute_reply": "2024-08-23T12:12:07.377478Z"
        },
        "trusted": true
      },
      "outputs": [
        {
          "output_type": "display_data",
          "data": {
            "text/plain": "model.safetensors:   0%|          | 0.00/47.7M [00:00<?, ?B/s]",
            "application/vnd.jupyter.widget-view+json": {
              "version_major": 2,
              "version_minor": 0,
              "model_id": "557f4b039dc74d37b30deb554691e284"
            }
          },
          "metadata": {}
        },
        {
          "name": "stderr",
          "text": "Some weights of BertForSequenceClassification were not initialized from the model checkpoint at cointegrated/rubert-tiny and are newly initialized: ['classifier.bias', 'classifier.weight']\nYou should probably TRAIN this model on a down-stream task to be able to use it for predictions and inference.\n",
          "output_type": "stream"
        }
      ],
      "execution_count": null
    },
    {
      "id": "882b6c37-fc1c-40be-827a-40bb1bce248d",
      "cell_type": "code",
      "source": [
        "!pip install evaluate"
      ],
      "metadata": {
        "execution": {
          "iopub.status.busy": "2024-08-23T12:12:25.346961Z",
          "iopub.execute_input": "2024-08-23T12:12:25.348063Z",
          "iopub.status.idle": "2024-08-23T12:12:38.392585Z",
          "shell.execute_reply.started": "2024-08-23T12:12:25.348017Z",
          "shell.execute_reply": "2024-08-23T12:12:38.391370Z"
        },
        "trusted": true,
        "id": "882b6c37-fc1c-40be-827a-40bb1bce248d"
      },
      "outputs": [],
      "execution_count": null
    },
    {
      "id": "ec77d599-bb11-40fd-bd6f-94a2b373fd85",
      "cell_type": "code",
      "source": [
        "import numpy as np\n",
        "import evaluate\n",
        "\n",
        "metric = evaluate.load(\"accuracy\", \"f1\")\n",
        "def compute_metrics(eval_pred):\n",
        "    logits, labels = eval_pred\n",
        "    predictions = np.argmax(logits, axis=-1)\n",
        "    return metric.compute(predictions=predictions, references=labels)"
      ],
      "metadata": {
        "id": "ec77d599-bb11-40fd-bd6f-94a2b373fd85",
        "ExecuteTime": {
          "end_time": "2024-08-19T11:33:26.122085Z",
          "start_time": "2024-08-19T11:33:01.599016Z"
        },
        "execution": {
          "iopub.status.busy": "2024-08-23T12:12:47.183193Z",
          "iopub.execute_input": "2024-08-23T12:12:47.183608Z",
          "iopub.status.idle": "2024-08-23T12:12:59.905366Z",
          "shell.execute_reply.started": "2024-08-23T12:12:47.183576Z",
          "shell.execute_reply": "2024-08-23T12:12:59.904524Z"
        },
        "trusted": true
      },
      "outputs": [],
      "execution_count": null
    },
    {
      "id": "67eed982-5dc3-46aa-b0d5-2fdd949a338b",
      "cell_type": "code",
      "source": [
        "import torch\n",
        "\n",
        "torch.cuda.current_device()"
      ],
      "metadata": {
        "colab": {
          "base_uri": "https://localhost:8080/"
        },
        "id": "67eed982-5dc3-46aa-b0d5-2fdd949a338b",
        "outputId": "5c697afa-cd63-415f-f2c0-056efd45fd93",
        "ExecuteTime": {
          "end_time": "2024-08-19T11:33:31.266085Z",
          "start_time": "2024-08-19T11:33:29.812086Z"
        },
        "execution": {
          "iopub.status.busy": "2024-08-22T10:42:56.298138Z",
          "iopub.execute_input": "2024-08-22T10:42:56.299317Z",
          "iopub.status.idle": "2024-08-22T10:42:56.353510Z",
          "shell.execute_reply.started": "2024-08-22T10:42:56.299282Z",
          "shell.execute_reply": "2024-08-22T10:42:56.352576Z"
        },
        "trusted": true
      },
      "outputs": [
        {
          "execution_count": 19,
          "output_type": "execute_result",
          "data": {
            "text/plain": "0"
          },
          "metadata": {}
        }
      ],
      "execution_count": null
    },
    {
      "id": "8699faeb-5206-4fa1-902d-37e680e2d29a",
      "cell_type": "code",
      "source": [
        "!pip install peft"
      ],
      "metadata": {
        "execution": {
          "iopub.status.busy": "2024-08-22T10:42:57.829520Z",
          "iopub.execute_input": "2024-08-22T10:42:57.829891Z",
          "iopub.status.idle": "2024-08-22T10:43:10.506772Z",
          "shell.execute_reply.started": "2024-08-22T10:42:57.829865Z",
          "shell.execute_reply": "2024-08-22T10:43:10.505551Z"
        },
        "trusted": true,
        "id": "8699faeb-5206-4fa1-902d-37e680e2d29a"
      },
      "outputs": [],
      "execution_count": null
    },
    {
      "id": "534052e5-eca8-45b0-9d3f-ad79eaf9fbc7",
      "cell_type": "code",
      "source": [
        "#Lora config можно использовать для LLM, уже обученной на похожей задаче, для ускорения обучения\n",
        "from peft import LoraConfig, TaskType, get_peft_model\n",
        "\n",
        "peft_config = LoraConfig(task_type=TaskType.SEQ_CLS,\n",
        "                         inference_mode=False,\n",
        "                         r=8,\n",
        "                         lora_alpha=32,\n",
        "                         lora_dropout=0.1,\n",
        "                         use_rslora=True,\n",
        "                         init_lora_weights=\"pissa\",\n",
        "                         )\n",
        "model = get_peft_model(model, peft_config)\n",
        "model.print_trainable_parameters()"
      ],
      "metadata": {
        "id": "534052e5-eca8-45b0-9d3f-ad79eaf9fbc7",
        "ExecuteTime": {
          "end_time": "2024-08-19T11:33:41.431085Z",
          "start_time": "2024-08-19T11:33:34.570088Z"
        },
        "execution": {
          "iopub.status.busy": "2024-08-22T10:43:12.705139Z",
          "iopub.execute_input": "2024-08-22T10:43:12.705564Z",
          "iopub.status.idle": "2024-08-22T10:43:15.454233Z",
          "shell.execute_reply.started": "2024-08-22T10:43:12.705531Z",
          "shell.execute_reply": "2024-08-22T10:43:15.453299Z"
        },
        "trusted": true
      },
      "outputs": [],
      "execution_count": null
    },
    {
      "id": "1daae7c1-2aa4-42d1-b585-96605b190148",
      "cell_type": "code",
      "source": [
        "from transformers import TrainingArguments, Trainer\n",
        "\n",
        "training_args = TrainingArguments(output_dir=\"test_trainer\",\n",
        "                                  eval_strategy=\"epoch\",\n",
        "                                  learning_rate=2e-5,\n",
        "\t                              num_train_epochs=10,\n",
        "                                  per_device_train_batch_size=32,\n",
        "                                  per_device_eval_batch_size=32,\n",
        "                                  gradient_accumulation_steps=4,\n",
        "                                  fp16=True,\n",
        "                                  evaluation_strategy=\"epoch\",\n",
        "                                  save_strategy=\"epoch\",\n",
        "                                  weight_decay=0.01,\n",
        "                                  )"
      ],
      "metadata": {
        "id": "1daae7c1-2aa4-42d1-b585-96605b190148",
        "ExecuteTime": {
          "end_time": "2024-08-19T11:33:53.939086Z",
          "start_time": "2024-08-19T11:33:53.645090Z"
        },
        "execution": {
          "iopub.status.busy": "2024-08-23T12:13:16.238757Z",
          "iopub.execute_input": "2024-08-23T12:13:16.239769Z",
          "iopub.status.idle": "2024-08-23T12:13:16.857219Z",
          "shell.execute_reply.started": "2024-08-23T12:13:16.239735Z",
          "shell.execute_reply": "2024-08-23T12:13:16.856256Z"
        },
        "trusted": true
      },
      "outputs": [],
      "execution_count": null
    },
    {
      "id": "276e7da8-b3c6-45cb-9fb2-3ccf7e2736c4",
      "cell_type": "code",
      "source": [
        "training_args.device"
      ],
      "metadata": {
        "colab": {
          "base_uri": "https://localhost:8080/"
        },
        "id": "276e7da8-b3c6-45cb-9fb2-3ccf7e2736c4",
        "outputId": "9470178d-1569-4659-e1ef-567abb27a80e",
        "ExecuteTime": {
          "end_time": "2024-08-19T11:33:59.100089Z",
          "start_time": "2024-08-19T11:33:59.081091Z"
        },
        "execution": {
          "iopub.status.busy": "2024-08-23T12:13:23.876189Z",
          "iopub.execute_input": "2024-08-23T12:13:23.876567Z",
          "iopub.status.idle": "2024-08-23T12:13:23.885385Z",
          "shell.execute_reply.started": "2024-08-23T12:13:23.876535Z",
          "shell.execute_reply": "2024-08-23T12:13:23.884334Z"
        },
        "trusted": true
      },
      "outputs": [
        {
          "execution_count": 29,
          "output_type": "execute_result",
          "data": {
            "text/plain": "device(type='cuda', index=0)"
          },
          "metadata": {}
        }
      ],
      "execution_count": null
    },
    {
      "id": "08a2d330-2017-4ff4-a406-66bc6c285eab",
      "cell_type": "code",
      "source": [
        "trainer = Trainer(\n",
        "    model=model,\n",
        "    args=training_args,\n",
        "    train_dataset=tokenized_datasets[\"train\"],\n",
        "    eval_dataset=tokenized_datasets[\"validation\"],\n",
        "    compute_metrics=compute_metrics,\n",
        "    tokenizer=tokenizer,)"
      ],
      "metadata": {
        "id": "08a2d330-2017-4ff4-a406-66bc6c285eab",
        "ExecuteTime": {
          "end_time": "2024-08-19T11:34:04.690118Z",
          "start_time": "2024-08-19T11:34:00.957091Z"
        },
        "execution": {
          "iopub.status.busy": "2024-08-23T12:13:27.243016Z",
          "iopub.execute_input": "2024-08-23T12:13:27.243749Z",
          "iopub.status.idle": "2024-08-23T12:13:28.020479Z",
          "shell.execute_reply.started": "2024-08-23T12:13:27.243716Z",
          "shell.execute_reply": "2024-08-23T12:13:28.019672Z"
        },
        "trusted": true
      },
      "outputs": [],
      "execution_count": null
    },
    {
      "id": "3a9ff627-c36c-4e9e-a949-05aa949c58d2",
      "cell_type": "code",
      "source": [
        "trainer.train()"
      ],
      "metadata": {
        "id": "3a9ff627-c36c-4e9e-a949-05aa949c58d2",
        "ExecuteTime": {
          "end_time": "2024-08-19T11:37:55.097993Z",
          "start_time": "2024-08-19T11:37:53.309427Z"
        },
        "execution": {
          "iopub.status.busy": "2024-08-23T12:13:31.129040Z",
          "iopub.execute_input": "2024-08-23T12:13:31.129946Z",
          "iopub.status.idle": "2024-08-23T13:00:13.361171Z",
          "shell.execute_reply.started": "2024-08-23T12:13:31.129911Z",
          "shell.execute_reply": "2024-08-23T13:00:13.360126Z"
        },
        "trusted": true
      },
      "outputs": [],
      "execution_count": null
    },
    {
      "id": "d1852628-b261-45f1-9bae-49b4be2543a0",
      "cell_type": "markdown",
      "source": [
        "# Загрузка тестовых данных и разметка"
      ],
      "metadata": {
        "id": "d1852628-b261-45f1-9bae-49b4be2543a0"
      }
    },
    {
      "id": "746f5786-3147-4912-8973-63472a962062",
      "cell_type": "code",
      "source": [
        "df_test.info()"
      ],
      "metadata": {
        "id": "746f5786-3147-4912-8973-63472a962062",
        "trusted": true
      },
      "outputs": [],
      "execution_count": null
    },
    {
      "id": "f9e5410a-add0-4329-b292-70d8a52e85ac",
      "cell_type": "code",
      "source": [
        "import numpy as np\n",
        "\n",
        "predictions = trainer.predict(tokenized_datasets[\"test\"])\n",
        "preds = np.argmax(predictions.predictions, axis=-1)\n",
        "preds = [str(x + 1) + \".\" for x in preds]\n",
        "\n",
        "df_test['rating'] = preds\n",
        "df_test.head()"
      ],
      "metadata": {
        "id": "f9e5410a-add0-4329-b292-70d8a52e85ac"
      },
      "outputs": [],
      "execution_count": null
    },
    {
      "id": "2a4ea0a0-d48f-42e1-acf8-72266206ee98",
      "cell_type": "code",
      "source": [
        "with open('test_with_rating.tskv', 'w') as file:\n",
        "    for index, row in df_test.iterrows():\n",
        "        line = ''\n",
        "        for column in df_test.columns:\n",
        "            line += f'{column}={row[column]}\\t'\n",
        "        print(line.strip(), end='\\n', file=file)"
      ],
      "metadata": {
        "id": "2a4ea0a0-d48f-42e1-acf8-72266206ee98",
        "trusted": true
      },
      "outputs": [],
      "execution_count": null
    },
    {
      "id": "8e71f211-dfa3-435d-af46-e787c60c5b10",
      "cell_type": "code",
      "source": [
        "with open('test_with_rating.tskv', 'r') as file:\n",
        "    data = [parse_tskv_line(line) for line in file]\n",
        "\n",
        "df_test = pd.DataFrame(data)\n",
        "df_test.head()"
      ],
      "metadata": {
        "id": "8e71f211-dfa3-435d-af46-e787c60c5b10",
        "trusted": true
      },
      "outputs": [],
      "execution_count": null
    },
    {
      "id": "b779b52c-3e14-467a-9889-1902cb4ee600",
      "cell_type": "code",
      "source": [
        "df_test.info()"
      ],
      "metadata": {
        "id": "b779b52c-3e14-467a-9889-1902cb4ee600",
        "trusted": true
      },
      "outputs": [],
      "execution_count": null
    }
  ]
}